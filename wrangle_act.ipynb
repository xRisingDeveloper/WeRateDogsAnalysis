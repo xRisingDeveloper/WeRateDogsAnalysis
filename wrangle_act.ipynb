{
  "cells": [
    {
      "cell_type": "markdown",
      "metadata": {
        "extensions": {
          "jupyter_dashboards": {
            "version": 1,
            "views": {
              "grid_default": {
                "col": 0,
                "height": 4,
                "hidden": false,
                "row": 0,
                "width": 4
              },
              "report_default": {
                "hidden": false
              }
            }
          }
        },
        "id": "Igp4pj3jdqow"
      },
      "source": [
        "# Project: Wrangling and Analyze Data"
      ]
    },
    {
      "cell_type": "code",
      "execution_count": 361,
      "metadata": {
        "id": "FelRUXTCdqoy"
      },
      "outputs": [],
      "source": [
        "#importing libraries\n",
        "import pandas as pd\n",
        "import numpy as np\n",
        "import requests\n",
        "import json\n",
        "import matplotlib.pyplot as plt\n",
        "import re"
      ]
    },
    {
      "cell_type": "markdown",
      "metadata": {
        "id": "HSfbPkIsdqoz"
      },
      "source": [
        "## Data Gathering"
      ]
    },
    {
      "cell_type": "markdown",
      "metadata": {
        "id": "fO_SfvtunCys"
      },
      "source": [
        "1. Downloading WeRateDogs Twitter archive data (twitter_archive_enhanced.csv)"
      ]
    },
    {
      "cell_type": "code",
      "execution_count": 362,
      "metadata": {},
      "outputs": [],
      "source": [
        "#Here I am reading a csv file using pandas and displaying the first 5 rows\n",
        "twitter_archive = pd.read_csv(\"twitter-archive-enhanced.csv\")"
      ]
    },
    {
      "cell_type": "markdown",
      "metadata": {
        "id": "F53fUbWddqo0"
      },
      "source": [
        "2. Using the Requests library to download the tweet image prediction (image_predictions.tsv)"
      ]
    },
    {
      "cell_type": "code",
      "execution_count": 363,
      "metadata": {
        "id": "U_O_CBcmdqo0"
      },
      "outputs": [],
      "source": [
        "# Download the image predictions file\n",
        "url = 'https://d17h27t6h515a5.cloudfront.net/topher/2017/August/599fd2ad_image-predictions/image-predictions.tsv'\n",
        "response = requests.get(url)\n",
        "\n",
        "# Save the file\n",
        "with open('image_predictions.tsv', 'wb') as file:\n",
        "    file.write(response.content)\n",
        "\n",
        "image_predictions = pd.read_csv('image_predictions.tsv', sep='\\t')"
      ]
    },
    {
      "cell_type": "markdown",
      "metadata": {
        "id": "SUvJxhundqo1"
      },
      "source": [
        "3. Using json to read (tweet-json.txt) file and adding it to a pandas dataframe"
      ]
    },
    {
      "cell_type": "code",
      "execution_count": 364,
      "metadata": {
        "id": "4S5qMLfmdqo1"
      },
      "outputs": [],
      "source": [
        "#Making a list to add tweets to\n",
        "\n",
        "tweets = []\n",
        "#Reading the file\n",
        "with open(\"tweet-json.txt\", \"r\") as file:\n",
        "  #Looping through each tweet and adding it through json to the tweets list\n",
        "  for tweet in file:\n",
        "    tweets.append(json.loads(tweet))\n",
        "\n",
        "#Turning the tweets list to a pandas DataFrame\n",
        "tweets_df = pd.DataFrame(tweets)"
      ]
    },
    {
      "cell_type": "markdown",
      "metadata": {
        "extensions": {
          "jupyter_dashboards": {
            "version": 1,
            "views": {
              "grid_default": {
                "col": 4,
                "height": 4,
                "hidden": false,
                "row": 28,
                "width": 4
              },
              "report_default": {
                "hidden": false
              }
            }
          }
        },
        "id": "-Q9J2kOrdqo2"
      },
      "source": [
        "## Assessing Data"
      ]
    },
    {
      "cell_type": "code",
      "execution_count": 365,
      "metadata": {
        "colab": {
          "base_uri": "https://localhost:8080/",
          "height": 590
        },
        "id": "J2sh1h26dqo2",
        "outputId": "ce494fb9-f452-46e0-84a7-42d1eedbea87"
      },
      "outputs": [
        {
          "data": {
            "text/html": [
              "<div>\n",
              "<style scoped>\n",
              "    .dataframe tbody tr th:only-of-type {\n",
              "        vertical-align: middle;\n",
              "    }\n",
              "\n",
              "    .dataframe tbody tr th {\n",
              "        vertical-align: top;\n",
              "    }\n",
              "\n",
              "    .dataframe thead th {\n",
              "        text-align: right;\n",
              "    }\n",
              "</style>\n",
              "<table border=\"1\" class=\"dataframe\">\n",
              "  <thead>\n",
              "    <tr style=\"text-align: right;\">\n",
              "      <th></th>\n",
              "      <th>tweet_id</th>\n",
              "      <th>in_reply_to_status_id</th>\n",
              "      <th>in_reply_to_user_id</th>\n",
              "      <th>timestamp</th>\n",
              "      <th>source</th>\n",
              "      <th>text</th>\n",
              "      <th>retweeted_status_id</th>\n",
              "      <th>retweeted_status_user_id</th>\n",
              "      <th>retweeted_status_timestamp</th>\n",
              "      <th>expanded_urls</th>\n",
              "      <th>rating_numerator</th>\n",
              "      <th>rating_denominator</th>\n",
              "      <th>name</th>\n",
              "      <th>doggo</th>\n",
              "      <th>floofer</th>\n",
              "      <th>pupper</th>\n",
              "      <th>puppo</th>\n",
              "    </tr>\n",
              "  </thead>\n",
              "  <tbody>\n",
              "    <tr>\n",
              "      <th>0</th>\n",
              "      <td>892420643555336193</td>\n",
              "      <td>NaN</td>\n",
              "      <td>NaN</td>\n",
              "      <td>2017-08-01 16:23:56 +0000</td>\n",
              "      <td>&lt;a href=\"http://twitter.com/download/iphone\" r...</td>\n",
              "      <td>This is Phineas. He's a mystical boy. Only eve...</td>\n",
              "      <td>NaN</td>\n",
              "      <td>NaN</td>\n",
              "      <td>NaN</td>\n",
              "      <td>https://twitter.com/dog_rates/status/892420643...</td>\n",
              "      <td>13</td>\n",
              "      <td>10</td>\n",
              "      <td>Phineas</td>\n",
              "      <td>NaN</td>\n",
              "      <td>NaN</td>\n",
              "      <td>NaN</td>\n",
              "      <td>NaN</td>\n",
              "    </tr>\n",
              "    <tr>\n",
              "      <th>1</th>\n",
              "      <td>892177421306343426</td>\n",
              "      <td>NaN</td>\n",
              "      <td>NaN</td>\n",
              "      <td>2017-08-01 00:17:27 +0000</td>\n",
              "      <td>&lt;a href=\"http://twitter.com/download/iphone\" r...</td>\n",
              "      <td>This is Tilly. She's just checking pup on you....</td>\n",
              "      <td>NaN</td>\n",
              "      <td>NaN</td>\n",
              "      <td>NaN</td>\n",
              "      <td>https://twitter.com/dog_rates/status/892177421...</td>\n",
              "      <td>13</td>\n",
              "      <td>10</td>\n",
              "      <td>Tilly</td>\n",
              "      <td>NaN</td>\n",
              "      <td>NaN</td>\n",
              "      <td>NaN</td>\n",
              "      <td>NaN</td>\n",
              "    </tr>\n",
              "    <tr>\n",
              "      <th>2</th>\n",
              "      <td>891815181378084864</td>\n",
              "      <td>NaN</td>\n",
              "      <td>NaN</td>\n",
              "      <td>2017-07-31 00:18:03 +0000</td>\n",
              "      <td>&lt;a href=\"http://twitter.com/download/iphone\" r...</td>\n",
              "      <td>This is Archie. He is a rare Norwegian Pouncin...</td>\n",
              "      <td>NaN</td>\n",
              "      <td>NaN</td>\n",
              "      <td>NaN</td>\n",
              "      <td>https://twitter.com/dog_rates/status/891815181...</td>\n",
              "      <td>12</td>\n",
              "      <td>10</td>\n",
              "      <td>Archie</td>\n",
              "      <td>NaN</td>\n",
              "      <td>NaN</td>\n",
              "      <td>NaN</td>\n",
              "      <td>NaN</td>\n",
              "    </tr>\n",
              "    <tr>\n",
              "      <th>3</th>\n",
              "      <td>891689557279858688</td>\n",
              "      <td>NaN</td>\n",
              "      <td>NaN</td>\n",
              "      <td>2017-07-30 15:58:51 +0000</td>\n",
              "      <td>&lt;a href=\"http://twitter.com/download/iphone\" r...</td>\n",
              "      <td>This is Darla. She commenced a snooze mid meal...</td>\n",
              "      <td>NaN</td>\n",
              "      <td>NaN</td>\n",
              "      <td>NaN</td>\n",
              "      <td>https://twitter.com/dog_rates/status/891689557...</td>\n",
              "      <td>13</td>\n",
              "      <td>10</td>\n",
              "      <td>Darla</td>\n",
              "      <td>NaN</td>\n",
              "      <td>NaN</td>\n",
              "      <td>NaN</td>\n",
              "      <td>NaN</td>\n",
              "    </tr>\n",
              "    <tr>\n",
              "      <th>4</th>\n",
              "      <td>891327558926688256</td>\n",
              "      <td>NaN</td>\n",
              "      <td>NaN</td>\n",
              "      <td>2017-07-29 16:00:24 +0000</td>\n",
              "      <td>&lt;a href=\"http://twitter.com/download/iphone\" r...</td>\n",
              "      <td>This is Franklin. He would like you to stop ca...</td>\n",
              "      <td>NaN</td>\n",
              "      <td>NaN</td>\n",
              "      <td>NaN</td>\n",
              "      <td>https://twitter.com/dog_rates/status/891327558...</td>\n",
              "      <td>12</td>\n",
              "      <td>10</td>\n",
              "      <td>Franklin</td>\n",
              "      <td>NaN</td>\n",
              "      <td>NaN</td>\n",
              "      <td>NaN</td>\n",
              "      <td>NaN</td>\n",
              "    </tr>\n",
              "  </tbody>\n",
              "</table>\n",
              "</div>"
            ],
            "text/plain": [
              "             tweet_id  in_reply_to_status_id  in_reply_to_user_id  \\\n",
              "0  892420643555336193                    NaN                  NaN   \n",
              "1  892177421306343426                    NaN                  NaN   \n",
              "2  891815181378084864                    NaN                  NaN   \n",
              "3  891689557279858688                    NaN                  NaN   \n",
              "4  891327558926688256                    NaN                  NaN   \n",
              "\n",
              "                   timestamp  \\\n",
              "0  2017-08-01 16:23:56 +0000   \n",
              "1  2017-08-01 00:17:27 +0000   \n",
              "2  2017-07-31 00:18:03 +0000   \n",
              "3  2017-07-30 15:58:51 +0000   \n",
              "4  2017-07-29 16:00:24 +0000   \n",
              "\n",
              "                                              source  \\\n",
              "0  <a href=\"http://twitter.com/download/iphone\" r...   \n",
              "1  <a href=\"http://twitter.com/download/iphone\" r...   \n",
              "2  <a href=\"http://twitter.com/download/iphone\" r...   \n",
              "3  <a href=\"http://twitter.com/download/iphone\" r...   \n",
              "4  <a href=\"http://twitter.com/download/iphone\" r...   \n",
              "\n",
              "                                                text  retweeted_status_id  \\\n",
              "0  This is Phineas. He's a mystical boy. Only eve...                  NaN   \n",
              "1  This is Tilly. She's just checking pup on you....                  NaN   \n",
              "2  This is Archie. He is a rare Norwegian Pouncin...                  NaN   \n",
              "3  This is Darla. She commenced a snooze mid meal...                  NaN   \n",
              "4  This is Franklin. He would like you to stop ca...                  NaN   \n",
              "\n",
              "   retweeted_status_user_id retweeted_status_timestamp  \\\n",
              "0                       NaN                        NaN   \n",
              "1                       NaN                        NaN   \n",
              "2                       NaN                        NaN   \n",
              "3                       NaN                        NaN   \n",
              "4                       NaN                        NaN   \n",
              "\n",
              "                                       expanded_urls  rating_numerator  \\\n",
              "0  https://twitter.com/dog_rates/status/892420643...                13   \n",
              "1  https://twitter.com/dog_rates/status/892177421...                13   \n",
              "2  https://twitter.com/dog_rates/status/891815181...                12   \n",
              "3  https://twitter.com/dog_rates/status/891689557...                13   \n",
              "4  https://twitter.com/dog_rates/status/891327558...                12   \n",
              "\n",
              "   rating_denominator      name doggo floofer pupper puppo  \n",
              "0                  10   Phineas   NaN     NaN    NaN   NaN  \n",
              "1                  10     Tilly   NaN     NaN    NaN   NaN  \n",
              "2                  10    Archie   NaN     NaN    NaN   NaN  \n",
              "3                  10     Darla   NaN     NaN    NaN   NaN  \n",
              "4                  10  Franklin   NaN     NaN    NaN   NaN  "
            ]
          },
          "execution_count": 365,
          "metadata": {},
          "output_type": "execute_result"
        }
      ],
      "source": [
        "#Viziually assesing the dataset\n",
        "twitter_archive.head()"
      ]
    },
    {
      "cell_type": "code",
      "execution_count": 366,
      "metadata": {
        "colab": {
          "base_uri": "https://localhost:8080/"
        },
        "id": "7M3LRlQodqo3",
        "outputId": "6bbad508-2be6-4d3c-f258-3d56cd797778"
      },
      "outputs": [
        {
          "name": "stdout",
          "output_type": "stream",
          "text": [
            "<class 'pandas.core.frame.DataFrame'>\n",
            "RangeIndex: 2356 entries, 0 to 2355\n",
            "Data columns (total 17 columns):\n",
            " #   Column                      Non-Null Count  Dtype  \n",
            "---  ------                      --------------  -----  \n",
            " 0   tweet_id                    2356 non-null   int64  \n",
            " 1   in_reply_to_status_id       78 non-null     float64\n",
            " 2   in_reply_to_user_id         78 non-null     float64\n",
            " 3   timestamp                   2356 non-null   object \n",
            " 4   source                      2356 non-null   object \n",
            " 5   text                        2356 non-null   object \n",
            " 6   retweeted_status_id         181 non-null    float64\n",
            " 7   retweeted_status_user_id    181 non-null    float64\n",
            " 8   retweeted_status_timestamp  181 non-null    object \n",
            " 9   expanded_urls               2297 non-null   object \n",
            " 10  rating_numerator            2356 non-null   int64  \n",
            " 11  rating_denominator          2356 non-null   int64  \n",
            " 12  name                        1611 non-null   object \n",
            " 13  doggo                       97 non-null     object \n",
            " 14  floofer                     10 non-null     object \n",
            " 15  pupper                      257 non-null    object \n",
            " 16  puppo                       30 non-null     object \n",
            "dtypes: float64(4), int64(3), object(10)\n",
            "memory usage: 313.0+ KB\n"
          ]
        }
      ],
      "source": [
        "#Information\n",
        "twitter_archive.info()"
      ]
    },
    {
      "cell_type": "code",
      "execution_count": 367,
      "metadata": {
        "colab": {
          "base_uri": "https://localhost:8080/",
          "height": 320
        },
        "id": "8hxJymESdqo4",
        "outputId": "140725c2-01bb-42ee-c683-9e145c6055da"
      },
      "outputs": [
        {
          "data": {
            "text/html": [
              "<div>\n",
              "<style scoped>\n",
              "    .dataframe tbody tr th:only-of-type {\n",
              "        vertical-align: middle;\n",
              "    }\n",
              "\n",
              "    .dataframe tbody tr th {\n",
              "        vertical-align: top;\n",
              "    }\n",
              "\n",
              "    .dataframe thead th {\n",
              "        text-align: right;\n",
              "    }\n",
              "</style>\n",
              "<table border=\"1\" class=\"dataframe\">\n",
              "  <thead>\n",
              "    <tr style=\"text-align: right;\">\n",
              "      <th></th>\n",
              "      <th>tweet_id</th>\n",
              "      <th>in_reply_to_status_id</th>\n",
              "      <th>in_reply_to_user_id</th>\n",
              "      <th>retweeted_status_id</th>\n",
              "      <th>retweeted_status_user_id</th>\n",
              "      <th>rating_numerator</th>\n",
              "      <th>rating_denominator</th>\n",
              "    </tr>\n",
              "  </thead>\n",
              "  <tbody>\n",
              "    <tr>\n",
              "      <th>count</th>\n",
              "      <td>2.356000e+03</td>\n",
              "      <td>7.800000e+01</td>\n",
              "      <td>7.800000e+01</td>\n",
              "      <td>1.810000e+02</td>\n",
              "      <td>1.810000e+02</td>\n",
              "      <td>2356.000000</td>\n",
              "      <td>2356.000000</td>\n",
              "    </tr>\n",
              "    <tr>\n",
              "      <th>mean</th>\n",
              "      <td>7.427716e+17</td>\n",
              "      <td>7.455079e+17</td>\n",
              "      <td>2.014171e+16</td>\n",
              "      <td>7.720400e+17</td>\n",
              "      <td>1.241698e+16</td>\n",
              "      <td>13.126486</td>\n",
              "      <td>10.455433</td>\n",
              "    </tr>\n",
              "    <tr>\n",
              "      <th>std</th>\n",
              "      <td>6.856705e+16</td>\n",
              "      <td>7.582492e+16</td>\n",
              "      <td>1.252797e+17</td>\n",
              "      <td>6.236928e+16</td>\n",
              "      <td>9.599254e+16</td>\n",
              "      <td>45.876648</td>\n",
              "      <td>6.745237</td>\n",
              "    </tr>\n",
              "    <tr>\n",
              "      <th>min</th>\n",
              "      <td>6.660209e+17</td>\n",
              "      <td>6.658147e+17</td>\n",
              "      <td>1.185634e+07</td>\n",
              "      <td>6.661041e+17</td>\n",
              "      <td>7.832140e+05</td>\n",
              "      <td>0.000000</td>\n",
              "      <td>0.000000</td>\n",
              "    </tr>\n",
              "    <tr>\n",
              "      <th>25%</th>\n",
              "      <td>6.783989e+17</td>\n",
              "      <td>6.757419e+17</td>\n",
              "      <td>3.086374e+08</td>\n",
              "      <td>7.186315e+17</td>\n",
              "      <td>4.196984e+09</td>\n",
              "      <td>10.000000</td>\n",
              "      <td>10.000000</td>\n",
              "    </tr>\n",
              "    <tr>\n",
              "      <th>50%</th>\n",
              "      <td>7.196279e+17</td>\n",
              "      <td>7.038708e+17</td>\n",
              "      <td>4.196984e+09</td>\n",
              "      <td>7.804657e+17</td>\n",
              "      <td>4.196984e+09</td>\n",
              "      <td>11.000000</td>\n",
              "      <td>10.000000</td>\n",
              "    </tr>\n",
              "    <tr>\n",
              "      <th>75%</th>\n",
              "      <td>7.993373e+17</td>\n",
              "      <td>8.257804e+17</td>\n",
              "      <td>4.196984e+09</td>\n",
              "      <td>8.203146e+17</td>\n",
              "      <td>4.196984e+09</td>\n",
              "      <td>12.000000</td>\n",
              "      <td>10.000000</td>\n",
              "    </tr>\n",
              "    <tr>\n",
              "      <th>max</th>\n",
              "      <td>8.924206e+17</td>\n",
              "      <td>8.862664e+17</td>\n",
              "      <td>8.405479e+17</td>\n",
              "      <td>8.874740e+17</td>\n",
              "      <td>7.874618e+17</td>\n",
              "      <td>1776.000000</td>\n",
              "      <td>170.000000</td>\n",
              "    </tr>\n",
              "  </tbody>\n",
              "</table>\n",
              "</div>"
            ],
            "text/plain": [
              "           tweet_id  in_reply_to_status_id  in_reply_to_user_id  \\\n",
              "count  2.356000e+03           7.800000e+01         7.800000e+01   \n",
              "mean   7.427716e+17           7.455079e+17         2.014171e+16   \n",
              "std    6.856705e+16           7.582492e+16         1.252797e+17   \n",
              "min    6.660209e+17           6.658147e+17         1.185634e+07   \n",
              "25%    6.783989e+17           6.757419e+17         3.086374e+08   \n",
              "50%    7.196279e+17           7.038708e+17         4.196984e+09   \n",
              "75%    7.993373e+17           8.257804e+17         4.196984e+09   \n",
              "max    8.924206e+17           8.862664e+17         8.405479e+17   \n",
              "\n",
              "       retweeted_status_id  retweeted_status_user_id  rating_numerator  \\\n",
              "count         1.810000e+02              1.810000e+02       2356.000000   \n",
              "mean          7.720400e+17              1.241698e+16         13.126486   \n",
              "std           6.236928e+16              9.599254e+16         45.876648   \n",
              "min           6.661041e+17              7.832140e+05          0.000000   \n",
              "25%           7.186315e+17              4.196984e+09         10.000000   \n",
              "50%           7.804657e+17              4.196984e+09         11.000000   \n",
              "75%           8.203146e+17              4.196984e+09         12.000000   \n",
              "max           8.874740e+17              7.874618e+17       1776.000000   \n",
              "\n",
              "       rating_denominator  \n",
              "count         2356.000000  \n",
              "mean            10.455433  \n",
              "std              6.745237  \n",
              "min              0.000000  \n",
              "25%             10.000000  \n",
              "50%             10.000000  \n",
              "75%             10.000000  \n",
              "max            170.000000  "
            ]
          },
          "execution_count": 367,
          "metadata": {},
          "output_type": "execute_result"
        }
      ],
      "source": [
        "#Statistics\n",
        "twitter_archive.describe()"
      ]
    },
    {
      "cell_type": "code",
      "execution_count": 368,
      "metadata": {
        "colab": {
          "base_uri": "https://localhost:8080/",
          "height": 115
        },
        "id": "Z9Ph5ulqdqo4",
        "outputId": "52cb295d-82a4-4286-fcc0-7f72e2e678cf"
      },
      "outputs": [
        {
          "data": {
            "text/plain": [
              "False    2356\n",
              "Name: count, dtype: int64"
            ]
          },
          "execution_count": 368,
          "metadata": {},
          "output_type": "execute_result"
        }
      ],
      "source": [
        "#Checking for duplicates\n",
        "twitter_archive.duplicated().value_counts()"
      ]
    },
    {
      "cell_type": "code",
      "execution_count": 369,
      "metadata": {
        "colab": {
          "base_uri": "https://localhost:8080/"
        },
        "id": "iE5Ahf1Ndqo4",
        "outputId": "26e638a7-46e0-4919-f501-2cc704fef560"
      },
      "outputs": [
        {
          "data": {
            "text/plain": [
              "array(['Phineas', 'Tilly', 'Archie', 'Darla', 'Franklin', nan, 'Jax',\n",
              "       'Zoey', 'Cassie', 'Koda', 'Bruno', 'Ted', 'Stuart', 'Oliver',\n",
              "       'Jim', 'Zeke', 'Ralphus', 'Canela', 'Gerald', 'Jeffrey', 'such',\n",
              "       'Maya', 'Mingus', 'Derek', 'Roscoe', 'Waffles', 'Jimbo', 'Maisey',\n",
              "       'Lilly', 'Earl', 'Lola', 'Kevin', 'Yogi', 'Noah', 'Bella',\n",
              "       'Grizzwald', 'Rusty', 'Gus', 'Stanley', 'Alfy', 'Koko', 'Rey',\n",
              "       'Gary', 'a', 'Elliot', 'Louis', 'Jesse', 'Romeo', 'Bailey',\n",
              "       'Duddles', 'Jack', 'Emmy', 'Steven', 'Beau', 'Snoopy', 'Shadow',\n",
              "       'Terrance', 'Aja', 'Penny', 'Dante', 'Nelly', 'Ginger', 'Benedict',\n",
              "       'Venti', 'Goose', 'Nugget', 'Cash', 'Coco', 'Jed', 'Sebastian',\n",
              "       'Walter', 'Sierra', 'Monkey', 'Harry', 'Kody', 'Lassie', 'Rover',\n",
              "       'Napolean', 'Dawn', 'Boomer', 'Cody', 'Rumble', 'Clifford',\n",
              "       'quite', 'Dewey', 'Scout', 'Gizmo', 'Cooper', 'Harold', 'Shikha',\n",
              "       'Jamesy', 'Lili', 'Sammy', 'Meatball', 'Paisley', 'Albus',\n",
              "       'Neptune', 'Quinn', 'Belle', 'Zooey', 'Dave', 'Jersey', 'Hobbes',\n",
              "       'Burt', 'Lorenzo', 'Carl', 'Jordy', 'Milky', 'Trooper', 'Winston',\n",
              "       'Sophie', 'Wyatt', 'Rosie', 'Thor', 'Oscar', 'Luna', 'Callie',\n",
              "       'Cermet', 'George', 'Marlee', 'Arya', 'Einstein', 'Alice',\n",
              "       'Rumpole', 'Benny', 'Aspen', 'Jarod', 'Wiggles', 'General',\n",
              "       'Sailor', 'Astrid', 'Iggy', 'Snoop', 'Kyle', 'Leo', 'Riley',\n",
              "       'Gidget', 'Noosh', 'Odin', 'Jerry', 'Charlie', 'Georgie', 'Rontu',\n",
              "       'Cannon', 'Furzey', 'Daisy', 'Tuck', 'Barney', 'Vixen', 'Jarvis',\n",
              "       'Mimosa', 'Pickles', 'Bungalo', 'Brady', 'Margo', 'Sadie', 'Hank',\n",
              "       'Tycho', 'Stephan', 'Indie', 'Winnie', 'Bentley', 'Ken', 'Max',\n",
              "       'Maddie', 'Pipsy', 'Monty', 'Sojourner', 'Odie', 'Arlo', 'Sunny',\n",
              "       'Vincent', 'Lucy', 'Clark', 'Mookie', 'Meera', 'Buddy', 'Ava',\n",
              "       'Rory', 'Eli', 'Ash', 'Tucker', 'Tobi', 'Chester', 'Wilson',\n",
              "       'Sunshine', 'Lipton', 'Gabby', 'Bronte', 'Poppy', 'Rhino',\n",
              "       'Willow', 'not', 'Orion', 'Eevee', 'Smiley', 'Logan', 'Moreton',\n",
              "       'Klein', 'Miguel', 'Emanuel', 'Kuyu', 'Dutch', 'Pete', 'Scooter',\n",
              "       'Reggie', 'Kyro', 'Samson', 'Loki', 'Mia', 'Malcolm', 'Dexter',\n",
              "       'Alfie', 'Fiona', 'one', 'Mutt', 'Bear', 'Doobert', 'Beebop',\n",
              "       'Alexander', 'Sailer', 'Brutus', 'Kona', 'Boots', 'Ralphie',\n",
              "       'Phil', 'Cupid', 'Pawnd', 'Pilot', 'Ike', 'Mo', 'Toby', 'Sweet',\n",
              "       'Pablo', 'Nala', 'Balto', 'Crawford', 'Gabe', 'Mattie', 'Jimison',\n",
              "       'Hercules', 'Duchess', 'Harlso', 'Sampson', 'Sundance', 'Luca',\n",
              "       'Flash', 'Finn', 'Peaches', 'Howie', 'Jazzy', 'Anna', 'Bo',\n",
              "       'Seamus', 'Wafer', 'Chelsea', 'Tom', 'Moose', 'Florence', 'Autumn',\n",
              "       'Dido', 'Eugene', 'Herschel', 'Strudel', 'Tebow', 'Chloe', 'Betty',\n",
              "       'Timber', 'Binky', 'Dudley', 'Comet', 'Larry', 'Levi', 'Akumi',\n",
              "       'Titan', 'Olivia', 'Alf', 'Oshie', 'Bruce', 'Chubbs', 'Sky',\n",
              "       'Atlas', 'Eleanor', 'Layla', 'Rocky', 'Baron', 'Tyr', 'Bauer',\n",
              "       'Swagger', 'Brandi', 'Mary', 'Moe', 'Halo', 'Augie', 'Craig',\n",
              "       'Sam', 'Hunter', 'Pavlov', 'Maximus', 'Wallace', 'Ito', 'Milo',\n",
              "       'Ollie', 'Cali', 'Lennon', 'incredibly', 'Major', 'Duke',\n",
              "       'Reginald', 'Sansa', 'Shooter', 'Django', 'Diogi', 'Sonny',\n",
              "       'Philbert', 'Marley', 'Severus', 'Ronnie', 'Anakin', 'Bones',\n",
              "       'Mauve', 'Chef', 'Doc', 'Sobe', 'Longfellow', 'Mister', 'Iroh',\n",
              "       'Baloo', 'Stubert', 'Paull', 'Timison', 'Davey', 'Pancake',\n",
              "       'Tyrone', 'Snicku', 'Ruby', 'Brody', 'Rizzy', 'Mack', 'Butter',\n",
              "       'Nimbus', 'Laika', 'Dobby', 'Juno', 'Maude', 'Lily', 'Newt',\n",
              "       'Benji', 'Nida', 'Robin', 'Monster', 'BeBe', 'Remus', 'Mabel',\n",
              "       'Misty', 'Happy', 'Mosby', 'Maggie', 'Leela', 'Ralphy', 'Brownie',\n",
              "       'Meyer', 'Stella', 'mad', 'Frank', 'Tonks', 'Lincoln', 'Oakley',\n",
              "       'Dale', 'Rizzo', 'Arnie', 'Pinot', 'Dallas', 'Hero', 'Frankie',\n",
              "       'Stormy', 'Mairi', 'Loomis', 'Godi', 'Kenny', 'Deacon', 'Timmy',\n",
              "       'Harper', 'Chipson', 'Combo', 'Dash', 'Bell', 'Hurley', 'Jay',\n",
              "       'Mya', 'Strider', 'an', 'Wesley', 'Solomon', 'Huck', 'very', 'O',\n",
              "       'Blue', 'Finley', 'Sprinkles', 'Heinrich', 'Shakespeare', 'Fizz',\n",
              "       'Chip', 'Grey', 'Roosevelt', 'Gromit', 'Willem', 'Dakota', 'Dixie',\n",
              "       'Al', 'Jackson', 'just', 'Carbon', 'DonDon', 'Kirby', 'Lou',\n",
              "       'Nollie', 'Chevy', 'Tito', 'Louie', 'Rupert', 'Rufus', 'Brudge',\n",
              "       'Shadoe', 'Colby', 'Angel', 'Brat', 'Tove', 'my', 'Aubie', 'Kota',\n",
              "       'Eve', 'Glenn', 'Shelby', 'Sephie', 'Bonaparte', 'Albert',\n",
              "       'Wishes', 'Rose', 'Theo', 'Rocco', 'Fido', 'Emma', 'Spencer',\n",
              "       'Lilli', 'Boston', 'Brandonald', 'Corey', 'Leonard', 'Chompsky',\n",
              "       'Beckham', 'Devón', 'Gert', 'Watson', 'Rubio', 'Keith', 'Dex',\n",
              "       'Carly', 'Ace', 'Tayzie', 'Grizzie', 'Fred', 'Gilbert', 'Zoe',\n",
              "       'Stewie', 'Calvin', 'Lilah', 'Spanky', 'Jameson', 'Piper',\n",
              "       'Atticus', 'Blu', 'Dietrich', 'Divine', 'Tripp', 'his', 'Cora',\n",
              "       'Huxley', 'Keurig', 'Bookstore', 'Linus', 'Abby', 'Shaggy',\n",
              "       'Shiloh', 'Gustav', 'Arlen', 'Percy', 'Lenox', 'Sugar', 'Harvey',\n",
              "       'Blanket', 'actually', 'Geno', 'Stark', 'Beya', 'Kilo', 'Kayla',\n",
              "       'Maxaroni', 'Doug', 'Edmund', 'Aqua', 'Theodore', 'Chase',\n",
              "       'getting', 'Rorie', 'Simba', 'Charles', 'Bayley', 'Axel',\n",
              "       'Storkson', 'Remy', 'Chadrick', 'Kellogg', 'Buckley', 'Livvie',\n",
              "       'Terry', 'Hermione', 'Ralpher', 'Aldrick', 'this', 'unacceptable',\n",
              "       'Rooney', 'Crystal', 'Ziva', 'Stefan', 'Pupcasso', 'Puff',\n",
              "       'Flurpson', 'Coleman', 'Enchilada', 'Raymond', 'all', 'Rueben',\n",
              "       'Cilantro', 'Karll', 'Sprout', 'Blitz', 'Bloop', 'Lillie',\n",
              "       'Ashleigh', 'Kreggory', 'Sarge', 'Luther', 'Ivar', 'Jangle',\n",
              "       'Schnitzel', 'Panda', 'Berkeley', 'Ralphé', 'Charleson', 'Clyde',\n",
              "       'Harnold', 'Sid', 'Pippa', 'Otis', 'Carper', 'Bowie',\n",
              "       'Alexanderson', 'Suki', 'Barclay', 'Skittle', 'Ebby', 'Flávio',\n",
              "       'Smokey', 'Link', 'Jennifur', 'Ozzy', 'Bluebert', 'Stephanus',\n",
              "       'Bubbles', 'old', 'Zeus', 'Bertson', 'Nico', 'Michelangelope',\n",
              "       'Siba', 'Calbert', 'Curtis', 'Travis', 'Thumas', 'Kanu', 'Lance',\n",
              "       'Opie', 'Kane', 'Olive', 'Chuckles', 'Staniel', 'Sora', 'Beemo',\n",
              "       'Gunner', 'infuriating', 'Lacy', 'Tater', 'Olaf', 'Cecil', 'Vince',\n",
              "       'Karma', 'Billy', 'Walker', 'Rodney', 'Klevin', 'Malikai',\n",
              "       'Bobble', 'River', 'Jebberson', 'Remington', 'Farfle', 'Jiminus',\n",
              "       'Clarkus', 'Finnegus', 'Cupcake', 'Kathmandu', 'Ellie', 'Katie',\n",
              "       'Kara', 'Adele', 'Zara', 'Ambrose', 'Jimothy', 'Bode', 'Terrenth',\n",
              "       'Reese', 'Chesterson', 'Lucia', 'Bisquick', 'Ralphson', 'Socks',\n",
              "       'Rambo', 'Rudy', 'Fiji', 'Rilo', 'Bilbo', 'Coopson', 'Yoda',\n",
              "       'Millie', 'Chet', 'Crouton', 'Daniel', 'Kaia', 'Murphy', 'Dotsy',\n",
              "       'Eazy', 'Coops', 'Fillup', 'Miley', 'Charl', 'Reagan', 'Yukon',\n",
              "       'CeCe', 'Cuddles', 'Claude', 'Jessiga', 'Carter', 'Ole', 'Pherb',\n",
              "       'Blipson', 'Reptar', 'Trevith', 'Berb', 'Bob', 'Colin', 'Brian',\n",
              "       'Oliviér', 'Grady', 'Kobe', 'Freddery', 'Bodie', 'Dunkin', 'Wally',\n",
              "       'Tupawc', 'Amber', 'Edgar', 'Teddy', 'Kingsley', 'Brockly',\n",
              "       'Richie', 'Molly', 'Vinscent', 'Cedrick', 'Hazel', 'Lolo', 'Eriq',\n",
              "       'Phred', 'the', 'Oddie', 'Maxwell', 'Geoff', 'Covach', 'Durg',\n",
              "       'Fynn', 'Ricky', 'Herald', 'Lucky', 'Ferg', 'Trip', 'Clarence',\n",
              "       'Hamrick', 'Brad', 'Pubert', 'Frönq', 'Derby', 'Lizzie', 'Ember',\n",
              "       'Blakely', 'Opal', 'Marq', 'Kramer', 'Barry', 'Gordon', 'Baxter',\n",
              "       'Mona', 'Horace', 'Crimson', 'Birf', 'Hammond', 'Lorelei', 'Marty',\n",
              "       'Brooks', 'Petrick', 'Hubertson', 'Gerbald', 'Oreo', 'Bruiser',\n",
              "       'Perry', 'Bobby', 'Jeph', 'Obi', 'Tino', 'Kulet', 'Sweets', 'Lupe',\n",
              "       'Tiger', 'Jiminy', 'Griffin', 'Banjo', 'Brandy', 'Lulu', 'Darrel',\n",
              "       'Taco', 'Joey', 'Patrick', 'Kreg', 'Todo', 'Tess', 'Ulysses',\n",
              "       'Toffee', 'Apollo', 'Asher', 'Glacier', 'Chuck', 'Champ', 'Ozzie',\n",
              "       'Griswold', 'Cheesy', 'Moofasa', 'Hector', 'Goliath', 'Kawhi',\n",
              "       'by', 'Emmie', 'Penelope', 'Willie', 'Rinna', 'Mike', 'William',\n",
              "       'Dwight', 'Evy', 'officially', 'Rascal', 'Linda', 'Tug', 'Tango',\n",
              "       'Grizz', 'Jerome', 'Crumpet', 'Jessifer', 'Izzy', 'Ralph', 'Sandy',\n",
              "       'Humphrey', 'Tassy', 'Juckson', 'Chuq', 'Tyrus', 'Karl',\n",
              "       'Godzilla', 'Vinnie', 'Kenneth', 'Herm', 'Bert', 'Striker',\n",
              "       'Donny', 'Pepper', 'Bernie', 'Buddah', 'Lenny', 'Arnold', 'Zuzu',\n",
              "       'Mollie', 'Laela', 'Tedders', 'Superpup', 'Rufio', 'Jeb', 'Rodman',\n",
              "       'Jonah', 'Chesney', 'life', 'Henry', 'Bobbay', 'Mitch', 'Kaiya',\n",
              "       'Acro', 'Aiden', 'Obie', 'Dot', 'Shnuggles', 'Kendall', 'Jeffri',\n",
              "       'Steve', 'Mac', 'Fletcher', 'Kenzie', 'Pumpkin', 'Schnozz',\n",
              "       'Gustaf', 'Cheryl', 'Ed', 'Leonidas', 'Norman', 'Caryl', 'Scott',\n",
              "       'Taz', 'Darby', 'Jackie', 'light', 'Jazz', 'Franq', 'Pippin',\n",
              "       'Rolf', 'Snickers', 'Ridley', 'Cal', 'Bradley', 'Bubba', 'Tuco',\n",
              "       'Patch', 'Mojo', 'Batdog', 'Dylan', 'space', 'Mark', 'JD',\n",
              "       'Alejandro', 'Scruffers', 'Pip', 'Julius', 'Tanner', 'Sparky',\n",
              "       'Anthony', 'Holly', 'Jett', 'Amy', 'Sage', 'Andy', 'Mason',\n",
              "       'Trigger', 'Antony', 'Creg', 'Traviss', 'Gin', 'Jeffrie', 'Danny',\n",
              "       'Ester', 'Pluto', 'Bloo', 'Edd', 'Willy', 'Herb', 'Damon',\n",
              "       'Peanut', 'Nigel', 'Butters', 'Sandra', 'Fabio', 'Randall', 'Liam',\n",
              "       'Tommy', 'Ben', 'Raphael', 'Julio', 'Andru', 'Kloey', 'Shawwn',\n",
              "       'Skye', 'Kollin', 'Ronduh', 'Billl', 'Saydee', 'Dug', 'Tessa',\n",
              "       'Sully', 'Kirk', 'Ralf', 'Clarq', 'Jaspers', 'Samsom', 'Harrison',\n",
              "       'Chaz', 'Jeremy', 'Jaycob', 'Lambeau', 'Ruffles', 'Amélie', 'Bobb',\n",
              "       'Banditt', 'Kevon', 'Winifred', 'Hanz', 'Churlie', 'Zeek',\n",
              "       'Timofy', 'Maks', 'Jomathan', 'Kallie', 'Marvin', 'Spark',\n",
              "       'Gòrdón', 'Jo', 'DayZ', 'Jareld', 'Torque', 'Ron', 'Skittles',\n",
              "       'Cleopatricia', 'Erik', 'Stu', 'Tedrick', 'Filup', 'Kial',\n",
              "       'Naphaniel', 'Dook', 'Hall', 'Philippe', 'Biden', 'Fwed',\n",
              "       'Genevieve', 'Joshwa', 'Bradlay', 'Clybe', 'Keet', 'Carll',\n",
              "       'Jockson', 'Josep', 'Lugan', 'Christoper'], dtype=object)"
            ]
          },
          "execution_count": 369,
          "metadata": {},
          "output_type": "execute_result"
        }
      ],
      "source": [
        "#Here I got all names in a variable\n",
        "unique_names = twitter_archive['name'].unique()\n",
        "unique_names"
      ]
    },
    {
      "cell_type": "code",
      "execution_count": 370,
      "metadata": {
        "colab": {
          "base_uri": "https://localhost:8080/",
          "height": 458
        },
        "id": "7Aic6enadqo4",
        "outputId": "5857d28a-82f9-4774-df0c-37de547af7dd"
      },
      "outputs": [
        {
          "data": {
            "text/plain": [
              "22       such\n",
              "56          a\n",
              "118     quite\n",
              "169     quite\n",
              "193     quite\n",
              "        ...  \n",
              "2349       an\n",
              "2350        a\n",
              "2352        a\n",
              "2353        a\n",
              "2354        a\n",
              "Name: name, Length: 109, dtype: object"
            ]
          },
          "execution_count": 370,
          "metadata": {},
          "output_type": "execute_result"
        }
      ],
      "source": [
        "#Here I am filling all na values because islower() function doesn't take NaNs\n",
        "twitter_archive_full = twitter_archive['name'].fillna('')\n",
        "#Checking for invalid names\n",
        "invalid_names = twitter_archive_full[twitter_archive_full.str.islower()]\n",
        "invalid_names"
      ]
    },
    {
      "cell_type": "code",
      "execution_count": 371,
      "metadata": {
        "colab": {
          "base_uri": "https://localhost:8080/",
          "height": 430
        },
        "id": "v0o5v7FKdqo5",
        "outputId": "6d9aee3c-e265-444c-b1bb-066c18786e5b"
      },
      "outputs": [
        {
          "data": {
            "image/png": "[encoded data removed]",
            "text/plain": [
              "<Figure size 640x480 with 1 Axes>"
            ]
          },
          "metadata": {},
          "output_type": "display_data"
        }
      ],
      "source": [
        "#Here I am getting only these 2 columns because I don't need other columns\n",
        "rating_numerator = twitter_archive.rating_numerator\n",
        "rating_denominator = twitter_archive.rating_denominator\n",
        "#Checking for Outlier\n",
        "plt.boxplot([rating_numerator, rating_denominator])\n",
        "plt.show()"
      ]
    },
    {
      "cell_type": "code",
      "execution_count": 372,
      "metadata": {
        "colab": {
          "base_uri": "https://localhost:8080/",
          "height": 1000
        },
        "id": "Dar_fVR8dqo5",
        "outputId": "a45e64bd-7c69-4798-89b2-4d36b4e0350b"
      },
      "outputs": [
        {
          "data": {
            "text/plain": [
              "rating_numerator\n",
              "12      558\n",
              "11      464\n",
              "10      461\n",
              "13      351\n",
              "9       158\n",
              "8       102\n",
              "7        55\n",
              "14       54\n",
              "5        37\n",
              "6        32\n",
              "3        19\n",
              "4        17\n",
              "2         9\n",
              "1         9\n",
              "75        2\n",
              "15        2\n",
              "420       2\n",
              "0         2\n",
              "80        1\n",
              "144       1\n",
              "17        1\n",
              "26        1\n",
              "20        1\n",
              "121       1\n",
              "143       1\n",
              "44        1\n",
              "60        1\n",
              "45        1\n",
              "50        1\n",
              "99        1\n",
              "204       1\n",
              "1776      1\n",
              "165       1\n",
              "666       1\n",
              "27        1\n",
              "182       1\n",
              "24        1\n",
              "960       1\n",
              "84        1\n",
              "88        1\n",
              "Name: count, dtype: int64"
            ]
          },
          "execution_count": 372,
          "metadata": {},
          "output_type": "execute_result"
        }
      ],
      "source": [
        "#I wanted to have a look over these\n",
        "rating_numerator.value_counts()"
      ]
    },
    {
      "cell_type": "code",
      "execution_count": 373,
      "metadata": {
        "colab": {
          "base_uri": "https://localhost:8080/",
          "height": 680
        },
        "id": "542Dqzzydqo5",
        "outputId": "a1557f19-4064-490f-bf67-035e04e2e0e1"
      },
      "outputs": [
        {
          "data": {
            "text/plain": [
              "rating_denominator\n",
              "10     2333\n",
              "11        3\n",
              "50        3\n",
              "20        2\n",
              "80        2\n",
              "70        1\n",
              "7         1\n",
              "15        1\n",
              "150       1\n",
              "170       1\n",
              "0         1\n",
              "90        1\n",
              "40        1\n",
              "130       1\n",
              "110       1\n",
              "16        1\n",
              "120       1\n",
              "2         1\n",
              "Name: count, dtype: int64"
            ]
          },
          "execution_count": 373,
          "metadata": {},
          "output_type": "execute_result"
        }
      ],
      "source": [
        "#I wanted to have a look here too\n",
        "rating_denominator.value_counts()"
      ]
    },
    {
      "cell_type": "code",
      "execution_count": 374,
      "metadata": {
        "colab": {
          "base_uri": "https://localhost:8080/",
          "height": 226
        },
        "id": "gRENBdjpdqo6",
        "outputId": "f3853479-55b7-4975-ce7f-ae32fb04c851"
      },
      "outputs": [
        {
          "data": {
            "text/html": [
              "<div>\n",
              "<style scoped>\n",
              "    .dataframe tbody tr th:only-of-type {\n",
              "        vertical-align: middle;\n",
              "    }\n",
              "\n",
              "    .dataframe tbody tr th {\n",
              "        vertical-align: top;\n",
              "    }\n",
              "\n",
              "    .dataframe thead th {\n",
              "        text-align: right;\n",
              "    }\n",
              "</style>\n",
              "<table border=\"1\" class=\"dataframe\">\n",
              "  <thead>\n",
              "    <tr style=\"text-align: right;\">\n",
              "      <th></th>\n",
              "      <th>tweet_id</th>\n",
              "      <th>jpg_url</th>\n",
              "      <th>img_num</th>\n",
              "      <th>p1</th>\n",
              "      <th>p1_conf</th>\n",
              "      <th>p1_dog</th>\n",
              "      <th>p2</th>\n",
              "      <th>p2_conf</th>\n",
              "      <th>p2_dog</th>\n",
              "      <th>p3</th>\n",
              "      <th>p3_conf</th>\n",
              "      <th>p3_dog</th>\n",
              "    </tr>\n",
              "  </thead>\n",
              "  <tbody>\n",
              "    <tr>\n",
              "      <th>0</th>\n",
              "      <td>666020888022790149</td>\n",
              "      <td>https://pbs.twimg.com/media/CT4udn0WwAA0aMy.jpg</td>\n",
              "      <td>1</td>\n",
              "      <td>Welsh_springer_spaniel</td>\n",
              "      <td>0.465074</td>\n",
              "      <td>True</td>\n",
              "      <td>collie</td>\n",
              "      <td>0.156665</td>\n",
              "      <td>True</td>\n",
              "      <td>Shetland_sheepdog</td>\n",
              "      <td>0.061428</td>\n",
              "      <td>True</td>\n",
              "    </tr>\n",
              "    <tr>\n",
              "      <th>1</th>\n",
              "      <td>666029285002620928</td>\n",
              "      <td>https://pbs.twimg.com/media/CT42GRgUYAA5iDo.jpg</td>\n",
              "      <td>1</td>\n",
              "      <td>redbone</td>\n",
              "      <td>0.506826</td>\n",
              "      <td>True</td>\n",
              "      <td>miniature_pinscher</td>\n",
              "      <td>0.074192</td>\n",
              "      <td>True</td>\n",
              "      <td>Rhodesian_ridgeback</td>\n",
              "      <td>0.072010</td>\n",
              "      <td>True</td>\n",
              "    </tr>\n",
              "    <tr>\n",
              "      <th>2</th>\n",
              "      <td>666033412701032449</td>\n",
              "      <td>https://pbs.twimg.com/media/CT4521TWwAEvMyu.jpg</td>\n",
              "      <td>1</td>\n",
              "      <td>German_shepherd</td>\n",
              "      <td>0.596461</td>\n",
              "      <td>True</td>\n",
              "      <td>malinois</td>\n",
              "      <td>0.138584</td>\n",
              "      <td>True</td>\n",
              "      <td>bloodhound</td>\n",
              "      <td>0.116197</td>\n",
              "      <td>True</td>\n",
              "    </tr>\n",
              "    <tr>\n",
              "      <th>3</th>\n",
              "      <td>666044226329800704</td>\n",
              "      <td>https://pbs.twimg.com/media/CT5Dr8HUEAA-lEu.jpg</td>\n",
              "      <td>1</td>\n",
              "      <td>Rhodesian_ridgeback</td>\n",
              "      <td>0.408143</td>\n",
              "      <td>True</td>\n",
              "      <td>redbone</td>\n",
              "      <td>0.360687</td>\n",
              "      <td>True</td>\n",
              "      <td>miniature_pinscher</td>\n",
              "      <td>0.222752</td>\n",
              "      <td>True</td>\n",
              "    </tr>\n",
              "    <tr>\n",
              "      <th>4</th>\n",
              "      <td>666049248165822465</td>\n",
              "      <td>https://pbs.twimg.com/media/CT5IQmsXIAAKY4A.jpg</td>\n",
              "      <td>1</td>\n",
              "      <td>miniature_pinscher</td>\n",
              "      <td>0.560311</td>\n",
              "      <td>True</td>\n",
              "      <td>Rottweiler</td>\n",
              "      <td>0.243682</td>\n",
              "      <td>True</td>\n",
              "      <td>Doberman</td>\n",
              "      <td>0.154629</td>\n",
              "      <td>True</td>\n",
              "    </tr>\n",
              "  </tbody>\n",
              "</table>\n",
              "</div>"
            ],
            "text/plain": [
              "             tweet_id                                          jpg_url  \\\n",
              "0  666020888022790149  https://pbs.twimg.com/media/CT4udn0WwAA0aMy.jpg   \n",
              "1  666029285002620928  https://pbs.twimg.com/media/CT42GRgUYAA5iDo.jpg   \n",
              "2  666033412701032449  https://pbs.twimg.com/media/CT4521TWwAEvMyu.jpg   \n",
              "3  666044226329800704  https://pbs.twimg.com/media/CT5Dr8HUEAA-lEu.jpg   \n",
              "4  666049248165822465  https://pbs.twimg.com/media/CT5IQmsXIAAKY4A.jpg   \n",
              "\n",
              "   img_num                      p1   p1_conf  p1_dog                  p2  \\\n",
              "0        1  Welsh_springer_spaniel  0.465074    True              collie   \n",
              "1        1                 redbone  0.506826    True  miniature_pinscher   \n",
              "2        1         German_shepherd  0.596461    True            malinois   \n",
              "3        1     Rhodesian_ridgeback  0.408143    True             redbone   \n",
              "4        1      miniature_pinscher  0.560311    True          Rottweiler   \n",
              "\n",
              "    p2_conf  p2_dog                   p3   p3_conf  p3_dog  \n",
              "0  0.156665    True    Shetland_sheepdog  0.061428    True  \n",
              "1  0.074192    True  Rhodesian_ridgeback  0.072010    True  \n",
              "2  0.138584    True           bloodhound  0.116197    True  \n",
              "3  0.360687    True   miniature_pinscher  0.222752    True  \n",
              "4  0.243682    True             Doberman  0.154629    True  "
            ]
          },
          "execution_count": 374,
          "metadata": {},
          "output_type": "execute_result"
        }
      ],
      "source": [
        "#Viziually assesing the dataset\n",
        "image_predictions.head()"
      ]
    },
    {
      "cell_type": "code",
      "execution_count": 375,
      "metadata": {
        "colab": {
          "base_uri": "https://localhost:8080/"
        },
        "id": "_z1FS2otdqo6",
        "outputId": "eb4a0b89-9d70-4c22-90b4-7a5ee9ddb712"
      },
      "outputs": [
        {
          "name": "stdout",
          "output_type": "stream",
          "text": [
            "<class 'pandas.core.frame.DataFrame'>\n",
            "RangeIndex: 2075 entries, 0 to 2074\n",
            "Data columns (total 12 columns):\n",
            " #   Column    Non-Null Count  Dtype  \n",
            "---  ------    --------------  -----  \n",
            " 0   tweet_id  2075 non-null   int64  \n",
            " 1   jpg_url   2075 non-null   object \n",
            " 2   img_num   2075 non-null   int64  \n",
            " 3   p1        2075 non-null   object \n",
            " 4   p1_conf   2075 non-null   float64\n",
            " 5   p1_dog    2075 non-null   bool   \n",
            " 6   p2        2075 non-null   object \n",
            " 7   p2_conf   2075 non-null   float64\n",
            " 8   p2_dog    2075 non-null   bool   \n",
            " 9   p3        2075 non-null   object \n",
            " 10  p3_conf   2075 non-null   float64\n",
            " 11  p3_dog    2075 non-null   bool   \n",
            "dtypes: bool(3), float64(3), int64(2), object(4)\n",
            "memory usage: 152.1+ KB\n"
          ]
        }
      ],
      "source": [
        "#information\n",
        "image_predictions.info()"
      ]
    },
    {
      "cell_type": "code",
      "execution_count": 376,
      "metadata": {
        "colab": {
          "base_uri": "https://localhost:8080/",
          "height": 300
        },
        "id": "cySnS5iidqo6",
        "outputId": "f7d51810-dfca-4a5d-b247-e57a39eaa183"
      },
      "outputs": [
        {
          "data": {
            "text/html": [
              "<div>\n",
              "<style scoped>\n",
              "    .dataframe tbody tr th:only-of-type {\n",
              "        vertical-align: middle;\n",
              "    }\n",
              "\n",
              "    .dataframe tbody tr th {\n",
              "        vertical-align: top;\n",
              "    }\n",
              "\n",
              "    .dataframe thead th {\n",
              "        text-align: right;\n",
              "    }\n",
              "</style>\n",
              "<table border=\"1\" class=\"dataframe\">\n",
              "  <thead>\n",
              "    <tr style=\"text-align: right;\">\n",
              "      <th></th>\n",
              "      <th>tweet_id</th>\n",
              "      <th>img_num</th>\n",
              "      <th>p1_conf</th>\n",
              "      <th>p2_conf</th>\n",
              "      <th>p3_conf</th>\n",
              "    </tr>\n",
              "  </thead>\n",
              "  <tbody>\n",
              "    <tr>\n",
              "      <th>count</th>\n",
              "      <td>2.075000e+03</td>\n",
              "      <td>2075.000000</td>\n",
              "      <td>2075.000000</td>\n",
              "      <td>2.075000e+03</td>\n",
              "      <td>2.075000e+03</td>\n",
              "    </tr>\n",
              "    <tr>\n",
              "      <th>mean</th>\n",
              "      <td>7.384514e+17</td>\n",
              "      <td>1.203855</td>\n",
              "      <td>0.594548</td>\n",
              "      <td>1.345886e-01</td>\n",
              "      <td>6.032417e-02</td>\n",
              "    </tr>\n",
              "    <tr>\n",
              "      <th>std</th>\n",
              "      <td>6.785203e+16</td>\n",
              "      <td>0.561875</td>\n",
              "      <td>0.271174</td>\n",
              "      <td>1.006657e-01</td>\n",
              "      <td>5.090593e-02</td>\n",
              "    </tr>\n",
              "    <tr>\n",
              "      <th>min</th>\n",
              "      <td>6.660209e+17</td>\n",
              "      <td>1.000000</td>\n",
              "      <td>0.044333</td>\n",
              "      <td>1.011300e-08</td>\n",
              "      <td>1.740170e-10</td>\n",
              "    </tr>\n",
              "    <tr>\n",
              "      <th>25%</th>\n",
              "      <td>6.764835e+17</td>\n",
              "      <td>1.000000</td>\n",
              "      <td>0.364412</td>\n",
              "      <td>5.388625e-02</td>\n",
              "      <td>1.622240e-02</td>\n",
              "    </tr>\n",
              "    <tr>\n",
              "      <th>50%</th>\n",
              "      <td>7.119988e+17</td>\n",
              "      <td>1.000000</td>\n",
              "      <td>0.588230</td>\n",
              "      <td>1.181810e-01</td>\n",
              "      <td>4.944380e-02</td>\n",
              "    </tr>\n",
              "    <tr>\n",
              "      <th>75%</th>\n",
              "      <td>7.932034e+17</td>\n",
              "      <td>1.000000</td>\n",
              "      <td>0.843855</td>\n",
              "      <td>1.955655e-01</td>\n",
              "      <td>9.180755e-02</td>\n",
              "    </tr>\n",
              "    <tr>\n",
              "      <th>max</th>\n",
              "      <td>8.924206e+17</td>\n",
              "      <td>4.000000</td>\n",
              "      <td>1.000000</td>\n",
              "      <td>4.880140e-01</td>\n",
              "      <td>2.734190e-01</td>\n",
              "    </tr>\n",
              "  </tbody>\n",
              "</table>\n",
              "</div>"
            ],
            "text/plain": [
              "           tweet_id      img_num      p1_conf       p2_conf       p3_conf\n",
              "count  2.075000e+03  2075.000000  2075.000000  2.075000e+03  2.075000e+03\n",
              "mean   7.384514e+17     1.203855     0.594548  1.345886e-01  6.032417e-02\n",
              "std    6.785203e+16     0.561875     0.271174  1.006657e-01  5.090593e-02\n",
              "min    6.660209e+17     1.000000     0.044333  1.011300e-08  1.740170e-10\n",
              "25%    6.764835e+17     1.000000     0.364412  5.388625e-02  1.622240e-02\n",
              "50%    7.119988e+17     1.000000     0.588230  1.181810e-01  4.944380e-02\n",
              "75%    7.932034e+17     1.000000     0.843855  1.955655e-01  9.180755e-02\n",
              "max    8.924206e+17     4.000000     1.000000  4.880140e-01  2.734190e-01"
            ]
          },
          "execution_count": 376,
          "metadata": {},
          "output_type": "execute_result"
        }
      ],
      "source": [
        "#statistics\n",
        "image_predictions.describe()"
      ]
    },
    {
      "cell_type": "code",
      "execution_count": 377,
      "metadata": {
        "colab": {
          "base_uri": "https://localhost:8080/",
          "height": 115
        },
        "id": "2tmTuvdJdqo6",
        "outputId": "3ae41635-9e1f-4a16-e274-298b1b33adf4"
      },
      "outputs": [
        {
          "data": {
            "text/plain": [
              "False    2075\n",
              "Name: count, dtype: int64"
            ]
          },
          "execution_count": 377,
          "metadata": {},
          "output_type": "execute_result"
        }
      ],
      "source": [
        "#Checking for duplicates\n",
        "image_predictions.duplicated().value_counts()"
      ]
    },
    {
      "cell_type": "code",
      "execution_count": 378,
      "metadata": {
        "colab": {
          "base_uri": "https://localhost:8080/",
          "height": 590
        },
        "id": "Q48AWhmUdqo6",
        "outputId": "960d5cbd-75cb-4851-96e8-b66c3619d398"
      },
      "outputs": [
        {
          "data": {
            "text/html": [
              "<div>\n",
              "<style scoped>\n",
              "    .dataframe tbody tr th:only-of-type {\n",
              "        vertical-align: middle;\n",
              "    }\n",
              "\n",
              "    .dataframe tbody tr th {\n",
              "        vertical-align: top;\n",
              "    }\n",
              "\n",
              "    .dataframe thead th {\n",
              "        text-align: right;\n",
              "    }\n",
              "</style>\n",
              "<table border=\"1\" class=\"dataframe\">\n",
              "  <thead>\n",
              "    <tr style=\"text-align: right;\">\n",
              "      <th></th>\n",
              "      <th>created_at</th>\n",
              "      <th>id</th>\n",
              "      <th>id_str</th>\n",
              "      <th>full_text</th>\n",
              "      <th>truncated</th>\n",
              "      <th>display_text_range</th>\n",
              "      <th>entities</th>\n",
              "      <th>extended_entities</th>\n",
              "      <th>source</th>\n",
              "      <th>in_reply_to_status_id</th>\n",
              "      <th>in_reply_to_status_id_str</th>\n",
              "      <th>in_reply_to_user_id</th>\n",
              "      <th>in_reply_to_user_id_str</th>\n",
              "      <th>in_reply_to_screen_name</th>\n",
              "      <th>user</th>\n",
              "      <th>geo</th>\n",
              "      <th>coordinates</th>\n",
              "      <th>place</th>\n",
              "      <th>contributors</th>\n",
              "      <th>is_quote_status</th>\n",
              "      <th>retweet_count</th>\n",
              "      <th>favorite_count</th>\n",
              "      <th>favorited</th>\n",
              "      <th>retweeted</th>\n",
              "      <th>possibly_sensitive</th>\n",
              "      <th>possibly_sensitive_appealable</th>\n",
              "      <th>lang</th>\n",
              "      <th>retweeted_status</th>\n",
              "      <th>quoted_status_id</th>\n",
              "      <th>quoted_status_id_str</th>\n",
              "      <th>quoted_status</th>\n",
              "    </tr>\n",
              "  </thead>\n",
              "  <tbody>\n",
              "    <tr>\n",
              "      <th>0</th>\n",
              "      <td>Tue Aug 01 16:23:56 +0000 2017</td>\n",
              "      <td>892420643555336193</td>\n",
              "      <td>892420643555336193</td>\n",
              "      <td>This is Phineas. He's a mystical boy. Only eve...</td>\n",
              "      <td>False</td>\n",
              "      <td>[0, 85]</td>\n",
              "      <td>{'hashtags': [], 'symbols': [], 'user_mentions...</td>\n",
              "      <td>{'media': [{'id': 892420639486877696, 'id_str'...</td>\n",
              "      <td>&lt;a href=\"http://twitter.com/download/iphone\" r...</td>\n",
              "      <td>NaN</td>\n",
              "      <td>None</td>\n",
              "      <td>NaN</td>\n",
              "      <td>None</td>\n",
              "      <td>None</td>\n",
              "      <td>{'id': 4196983835, 'id_str': '4196983835', 'na...</td>\n",
              "      <td>None</td>\n",
              "      <td>None</td>\n",
              "      <td>None</td>\n",
              "      <td>None</td>\n",
              "      <td>False</td>\n",
              "      <td>8853</td>\n",
              "      <td>39467</td>\n",
              "      <td>False</td>\n",
              "      <td>False</td>\n",
              "      <td>False</td>\n",
              "      <td>False</td>\n",
              "      <td>en</td>\n",
              "      <td>NaN</td>\n",
              "      <td>NaN</td>\n",
              "      <td>NaN</td>\n",
              "      <td>NaN</td>\n",
              "    </tr>\n",
              "    <tr>\n",
              "      <th>1</th>\n",
              "      <td>Tue Aug 01 00:17:27 +0000 2017</td>\n",
              "      <td>892177421306343426</td>\n",
              "      <td>892177421306343426</td>\n",
              "      <td>This is Tilly. She's just checking pup on you....</td>\n",
              "      <td>False</td>\n",
              "      <td>[0, 138]</td>\n",
              "      <td>{'hashtags': [], 'symbols': [], 'user_mentions...</td>\n",
              "      <td>{'media': [{'id': 892177413194625024, 'id_str'...</td>\n",
              "      <td>&lt;a href=\"http://twitter.com/download/iphone\" r...</td>\n",
              "      <td>NaN</td>\n",
              "      <td>None</td>\n",
              "      <td>NaN</td>\n",
              "      <td>None</td>\n",
              "      <td>None</td>\n",
              "      <td>{'id': 4196983835, 'id_str': '4196983835', 'na...</td>\n",
              "      <td>None</td>\n",
              "      <td>None</td>\n",
              "      <td>None</td>\n",
              "      <td>None</td>\n",
              "      <td>False</td>\n",
              "      <td>6514</td>\n",
              "      <td>33819</td>\n",
              "      <td>False</td>\n",
              "      <td>False</td>\n",
              "      <td>False</td>\n",
              "      <td>False</td>\n",
              "      <td>en</td>\n",
              "      <td>NaN</td>\n",
              "      <td>NaN</td>\n",
              "      <td>NaN</td>\n",
              "      <td>NaN</td>\n",
              "    </tr>\n",
              "    <tr>\n",
              "      <th>2</th>\n",
              "      <td>Mon Jul 31 00:18:03 +0000 2017</td>\n",
              "      <td>891815181378084864</td>\n",
              "      <td>891815181378084864</td>\n",
              "      <td>This is Archie. He is a rare Norwegian Pouncin...</td>\n",
              "      <td>False</td>\n",
              "      <td>[0, 121]</td>\n",
              "      <td>{'hashtags': [], 'symbols': [], 'user_mentions...</td>\n",
              "      <td>{'media': [{'id': 891815175371796480, 'id_str'...</td>\n",
              "      <td>&lt;a href=\"http://twitter.com/download/iphone\" r...</td>\n",
              "      <td>NaN</td>\n",
              "      <td>None</td>\n",
              "      <td>NaN</td>\n",
              "      <td>None</td>\n",
              "      <td>None</td>\n",
              "      <td>{'id': 4196983835, 'id_str': '4196983835', 'na...</td>\n",
              "      <td>None</td>\n",
              "      <td>None</td>\n",
              "      <td>None</td>\n",
              "      <td>None</td>\n",
              "      <td>False</td>\n",
              "      <td>4328</td>\n",
              "      <td>25461</td>\n",
              "      <td>False</td>\n",
              "      <td>False</td>\n",
              "      <td>False</td>\n",
              "      <td>False</td>\n",
              "      <td>en</td>\n",
              "      <td>NaN</td>\n",
              "      <td>NaN</td>\n",
              "      <td>NaN</td>\n",
              "      <td>NaN</td>\n",
              "    </tr>\n",
              "    <tr>\n",
              "      <th>3</th>\n",
              "      <td>Sun Jul 30 15:58:51 +0000 2017</td>\n",
              "      <td>891689557279858688</td>\n",
              "      <td>891689557279858688</td>\n",
              "      <td>This is Darla. She commenced a snooze mid meal...</td>\n",
              "      <td>False</td>\n",
              "      <td>[0, 79]</td>\n",
              "      <td>{'hashtags': [], 'symbols': [], 'user_mentions...</td>\n",
              "      <td>{'media': [{'id': 891689552724799489, 'id_str'...</td>\n",
              "      <td>&lt;a href=\"http://twitter.com/download/iphone\" r...</td>\n",
              "      <td>NaN</td>\n",
              "      <td>None</td>\n",
              "      <td>NaN</td>\n",
              "      <td>None</td>\n",
              "      <td>None</td>\n",
              "      <td>{'id': 4196983835, 'id_str': '4196983835', 'na...</td>\n",
              "      <td>None</td>\n",
              "      <td>None</td>\n",
              "      <td>None</td>\n",
              "      <td>None</td>\n",
              "      <td>False</td>\n",
              "      <td>8964</td>\n",
              "      <td>42908</td>\n",
              "      <td>False</td>\n",
              "      <td>False</td>\n",
              "      <td>False</td>\n",
              "      <td>False</td>\n",
              "      <td>en</td>\n",
              "      <td>NaN</td>\n",
              "      <td>NaN</td>\n",
              "      <td>NaN</td>\n",
              "      <td>NaN</td>\n",
              "    </tr>\n",
              "    <tr>\n",
              "      <th>4</th>\n",
              "      <td>Sat Jul 29 16:00:24 +0000 2017</td>\n",
              "      <td>891327558926688256</td>\n",
              "      <td>891327558926688256</td>\n",
              "      <td>This is Franklin. He would like you to stop ca...</td>\n",
              "      <td>False</td>\n",
              "      <td>[0, 138]</td>\n",
              "      <td>{'hashtags': [{'text': 'BarkWeek', 'indices': ...</td>\n",
              "      <td>{'media': [{'id': 891327551943041024, 'id_str'...</td>\n",
              "      <td>&lt;a href=\"http://twitter.com/download/iphone\" r...</td>\n",
              "      <td>NaN</td>\n",
              "      <td>None</td>\n",
              "      <td>NaN</td>\n",
              "      <td>None</td>\n",
              "      <td>None</td>\n",
              "      <td>{'id': 4196983835, 'id_str': '4196983835', 'na...</td>\n",
              "      <td>None</td>\n",
              "      <td>None</td>\n",
              "      <td>None</td>\n",
              "      <td>None</td>\n",
              "      <td>False</td>\n",
              "      <td>9774</td>\n",
              "      <td>41048</td>\n",
              "      <td>False</td>\n",
              "      <td>False</td>\n",
              "      <td>False</td>\n",
              "      <td>False</td>\n",
              "      <td>en</td>\n",
              "      <td>NaN</td>\n",
              "      <td>NaN</td>\n",
              "      <td>NaN</td>\n",
              "      <td>NaN</td>\n",
              "    </tr>\n",
              "  </tbody>\n",
              "</table>\n",
              "</div>"
            ],
            "text/plain": [
              "                       created_at                  id              id_str  \\\n",
              "0  Tue Aug 01 16:23:56 +0000 2017  892420643555336193  892420643555336193   \n",
              "1  Tue Aug 01 00:17:27 +0000 2017  892177421306343426  892177421306343426   \n",
              "2  Mon Jul 31 00:18:03 +0000 2017  891815181378084864  891815181378084864   \n",
              "3  Sun Jul 30 15:58:51 +0000 2017  891689557279858688  891689557279858688   \n",
              "4  Sat Jul 29 16:00:24 +0000 2017  891327558926688256  891327558926688256   \n",
              "\n",
              "                                           full_text  truncated  \\\n",
              "0  This is Phineas. He's a mystical boy. Only eve...      False   \n",
              "1  This is Tilly. She's just checking pup on you....      False   \n",
              "2  This is Archie. He is a rare Norwegian Pouncin...      False   \n",
              "3  This is Darla. She commenced a snooze mid meal...      False   \n",
              "4  This is Franklin. He would like you to stop ca...      False   \n",
              "\n",
              "  display_text_range                                           entities  \\\n",
              "0            [0, 85]  {'hashtags': [], 'symbols': [], 'user_mentions...   \n",
              "1           [0, 138]  {'hashtags': [], 'symbols': [], 'user_mentions...   \n",
              "2           [0, 121]  {'hashtags': [], 'symbols': [], 'user_mentions...   \n",
              "3            [0, 79]  {'hashtags': [], 'symbols': [], 'user_mentions...   \n",
              "4           [0, 138]  {'hashtags': [{'text': 'BarkWeek', 'indices': ...   \n",
              "\n",
              "                                   extended_entities  \\\n",
              "0  {'media': [{'id': 892420639486877696, 'id_str'...   \n",
              "1  {'media': [{'id': 892177413194625024, 'id_str'...   \n",
              "2  {'media': [{'id': 891815175371796480, 'id_str'...   \n",
              "3  {'media': [{'id': 891689552724799489, 'id_str'...   \n",
              "4  {'media': [{'id': 891327551943041024, 'id_str'...   \n",
              "\n",
              "                                              source  in_reply_to_status_id  \\\n",
              "0  <a href=\"http://twitter.com/download/iphone\" r...                    NaN   \n",
              "1  <a href=\"http://twitter.com/download/iphone\" r...                    NaN   \n",
              "2  <a href=\"http://twitter.com/download/iphone\" r...                    NaN   \n",
              "3  <a href=\"http://twitter.com/download/iphone\" r...                    NaN   \n",
              "4  <a href=\"http://twitter.com/download/iphone\" r...                    NaN   \n",
              "\n",
              "  in_reply_to_status_id_str  in_reply_to_user_id in_reply_to_user_id_str  \\\n",
              "0                      None                  NaN                    None   \n",
              "1                      None                  NaN                    None   \n",
              "2                      None                  NaN                    None   \n",
              "3                      None                  NaN                    None   \n",
              "4                      None                  NaN                    None   \n",
              "\n",
              "  in_reply_to_screen_name                                               user  \\\n",
              "0                    None  {'id': 4196983835, 'id_str': '4196983835', 'na...   \n",
              "1                    None  {'id': 4196983835, 'id_str': '4196983835', 'na...   \n",
              "2                    None  {'id': 4196983835, 'id_str': '4196983835', 'na...   \n",
              "3                    None  {'id': 4196983835, 'id_str': '4196983835', 'na...   \n",
              "4                    None  {'id': 4196983835, 'id_str': '4196983835', 'na...   \n",
              "\n",
              "    geo coordinates place contributors  is_quote_status  retweet_count  \\\n",
              "0  None        None  None         None            False           8853   \n",
              "1  None        None  None         None            False           6514   \n",
              "2  None        None  None         None            False           4328   \n",
              "3  None        None  None         None            False           8964   \n",
              "4  None        None  None         None            False           9774   \n",
              "\n",
              "   favorite_count  favorited  retweeted possibly_sensitive  \\\n",
              "0           39467      False      False              False   \n",
              "1           33819      False      False              False   \n",
              "2           25461      False      False              False   \n",
              "3           42908      False      False              False   \n",
              "4           41048      False      False              False   \n",
              "\n",
              "  possibly_sensitive_appealable lang retweeted_status  quoted_status_id  \\\n",
              "0                         False   en              NaN               NaN   \n",
              "1                         False   en              NaN               NaN   \n",
              "2                         False   en              NaN               NaN   \n",
              "3                         False   en              NaN               NaN   \n",
              "4                         False   en              NaN               NaN   \n",
              "\n",
              "  quoted_status_id_str quoted_status  \n",
              "0                  NaN           NaN  \n",
              "1                  NaN           NaN  \n",
              "2                  NaN           NaN  \n",
              "3                  NaN           NaN  \n",
              "4                  NaN           NaN  "
            ]
          },
          "execution_count": 378,
          "metadata": {},
          "output_type": "execute_result"
        }
      ],
      "source": [
        "#Viziually assesing the dataset\n",
        "tweets_df.head()"
      ]
    },
    {
      "cell_type": "code",
      "execution_count": 379,
      "metadata": {
        "colab": {
          "base_uri": "https://localhost:8080/"
        },
        "id": "9MGu0aHVdqo6",
        "outputId": "d6d24091-5396-44aa-d45d-24e3d1161f8f"
      },
      "outputs": [
        {
          "name": "stdout",
          "output_type": "stream",
          "text": [
            "<class 'pandas.core.frame.DataFrame'>\n",
            "RangeIndex: 2354 entries, 0 to 2353\n",
            "Data columns (total 31 columns):\n",
            " #   Column                         Non-Null Count  Dtype  \n",
            "---  ------                         --------------  -----  \n",
            " 0   created_at                     2354 non-null   object \n",
            " 1   id                             2354 non-null   int64  \n",
            " 2   id_str                         2354 non-null   object \n",
            " 3   full_text                      2354 non-null   object \n",
            " 4   truncated                      2354 non-null   bool   \n",
            " 5   display_text_range             2354 non-null   object \n",
            " 6   entities                       2354 non-null   object \n",
            " 7   extended_entities              2073 non-null   object \n",
            " 8   source                         2354 non-null   object \n",
            " 9   in_reply_to_status_id          78 non-null     float64\n",
            " 10  in_reply_to_status_id_str      78 non-null     object \n",
            " 11  in_reply_to_user_id            78 non-null     float64\n",
            " 12  in_reply_to_user_id_str        78 non-null     object \n",
            " 13  in_reply_to_screen_name        78 non-null     object \n",
            " 14  user                           2354 non-null   object \n",
            " 15  geo                            0 non-null      object \n",
            " 16  coordinates                    0 non-null      object \n",
            " 17  place                          1 non-null      object \n",
            " 18  contributors                   0 non-null      object \n",
            " 19  is_quote_status                2354 non-null   bool   \n",
            " 20  retweet_count                  2354 non-null   int64  \n",
            " 21  favorite_count                 2354 non-null   int64  \n",
            " 22  favorited                      2354 non-null   bool   \n",
            " 23  retweeted                      2354 non-null   bool   \n",
            " 24  possibly_sensitive             2211 non-null   object \n",
            " 25  possibly_sensitive_appealable  2211 non-null   object \n",
            " 26  lang                           2354 non-null   object \n",
            " 27  retweeted_status               179 non-null    object \n",
            " 28  quoted_status_id               29 non-null     float64\n",
            " 29  quoted_status_id_str           29 non-null     object \n",
            " 30  quoted_status                  28 non-null     object \n",
            "dtypes: bool(4), float64(3), int64(3), object(21)\n",
            "memory usage: 505.9+ KB\n"
          ]
        }
      ],
      "source": [
        "#Information\n",
        "tweets_df.info()"
      ]
    },
    {
      "cell_type": "code",
      "execution_count": 380,
      "metadata": {
        "colab": {
          "base_uri": "https://localhost:8080/",
          "height": 300
        },
        "id": "_Qys9pB8dqo7",
        "outputId": "3e0a224d-6d2e-467a-b4ff-3ba1e37f23cf"
      },
      "outputs": [
        {
          "data": {
            "text/html": [
              "<div>\n",
              "<style scoped>\n",
              "    .dataframe tbody tr th:only-of-type {\n",
              "        vertical-align: middle;\n",
              "    }\n",
              "\n",
              "    .dataframe tbody tr th {\n",
              "        vertical-align: top;\n",
              "    }\n",
              "\n",
              "    .dataframe thead th {\n",
              "        text-align: right;\n",
              "    }\n",
              "</style>\n",
              "<table border=\"1\" class=\"dataframe\">\n",
              "  <thead>\n",
              "    <tr style=\"text-align: right;\">\n",
              "      <th></th>\n",
              "      <th>id</th>\n",
              "      <th>in_reply_to_status_id</th>\n",
              "      <th>in_reply_to_user_id</th>\n",
              "      <th>retweet_count</th>\n",
              "      <th>favorite_count</th>\n",
              "      <th>quoted_status_id</th>\n",
              "    </tr>\n",
              "  </thead>\n",
              "  <tbody>\n",
              "    <tr>\n",
              "      <th>count</th>\n",
              "      <td>2.354000e+03</td>\n",
              "      <td>7.800000e+01</td>\n",
              "      <td>7.800000e+01</td>\n",
              "      <td>2354.000000</td>\n",
              "      <td>2354.000000</td>\n",
              "      <td>2.900000e+01</td>\n",
              "    </tr>\n",
              "    <tr>\n",
              "      <th>mean</th>\n",
              "      <td>7.426978e+17</td>\n",
              "      <td>7.455079e+17</td>\n",
              "      <td>2.014171e+16</td>\n",
              "      <td>3164.797366</td>\n",
              "      <td>8080.968564</td>\n",
              "      <td>8.162686e+17</td>\n",
              "    </tr>\n",
              "    <tr>\n",
              "      <th>std</th>\n",
              "      <td>6.852812e+16</td>\n",
              "      <td>7.582492e+16</td>\n",
              "      <td>1.252797e+17</td>\n",
              "      <td>5284.770364</td>\n",
              "      <td>11814.771334</td>\n",
              "      <td>6.164161e+16</td>\n",
              "    </tr>\n",
              "    <tr>\n",
              "      <th>min</th>\n",
              "      <td>6.660209e+17</td>\n",
              "      <td>6.658147e+17</td>\n",
              "      <td>1.185634e+07</td>\n",
              "      <td>0.000000</td>\n",
              "      <td>0.000000</td>\n",
              "      <td>6.721083e+17</td>\n",
              "    </tr>\n",
              "    <tr>\n",
              "      <th>25%</th>\n",
              "      <td>6.783975e+17</td>\n",
              "      <td>6.757419e+17</td>\n",
              "      <td>3.086374e+08</td>\n",
              "      <td>624.500000</td>\n",
              "      <td>1415.000000</td>\n",
              "      <td>7.888183e+17</td>\n",
              "    </tr>\n",
              "    <tr>\n",
              "      <th>50%</th>\n",
              "      <td>7.194596e+17</td>\n",
              "      <td>7.038708e+17</td>\n",
              "      <td>4.196984e+09</td>\n",
              "      <td>1473.500000</td>\n",
              "      <td>3603.500000</td>\n",
              "      <td>8.340867e+17</td>\n",
              "    </tr>\n",
              "    <tr>\n",
              "      <th>75%</th>\n",
              "      <td>7.993058e+17</td>\n",
              "      <td>8.257804e+17</td>\n",
              "      <td>4.196984e+09</td>\n",
              "      <td>3652.000000</td>\n",
              "      <td>10122.250000</td>\n",
              "      <td>8.664587e+17</td>\n",
              "    </tr>\n",
              "    <tr>\n",
              "      <th>max</th>\n",
              "      <td>8.924206e+17</td>\n",
              "      <td>8.862664e+17</td>\n",
              "      <td>8.405479e+17</td>\n",
              "      <td>79515.000000</td>\n",
              "      <td>132810.000000</td>\n",
              "      <td>8.860534e+17</td>\n",
              "    </tr>\n",
              "  </tbody>\n",
              "</table>\n",
              "</div>"
            ],
            "text/plain": [
              "                 id  in_reply_to_status_id  in_reply_to_user_id  \\\n",
              "count  2.354000e+03           7.800000e+01         7.800000e+01   \n",
              "mean   7.426978e+17           7.455079e+17         2.014171e+16   \n",
              "std    6.852812e+16           7.582492e+16         1.252797e+17   \n",
              "min    6.660209e+17           6.658147e+17         1.185634e+07   \n",
              "25%    6.783975e+17           6.757419e+17         3.086374e+08   \n",
              "50%    7.194596e+17           7.038708e+17         4.196984e+09   \n",
              "75%    7.993058e+17           8.257804e+17         4.196984e+09   \n",
              "max    8.924206e+17           8.862664e+17         8.405479e+17   \n",
              "\n",
              "       retweet_count  favorite_count  quoted_status_id  \n",
              "count    2354.000000     2354.000000      2.900000e+01  \n",
              "mean     3164.797366     8080.968564      8.162686e+17  \n",
              "std      5284.770364    11814.771334      6.164161e+16  \n",
              "min         0.000000        0.000000      6.721083e+17  \n",
              "25%       624.500000     1415.000000      7.888183e+17  \n",
              "50%      1473.500000     3603.500000      8.340867e+17  \n",
              "75%      3652.000000    10122.250000      8.664587e+17  \n",
              "max     79515.000000   132810.000000      8.860534e+17  "
            ]
          },
          "execution_count": 380,
          "metadata": {},
          "output_type": "execute_result"
        }
      ],
      "source": [
        "#Statistics\n",
        "tweets_df.describe()"
      ]
    },
    {
      "cell_type": "code",
      "execution_count": 381,
      "metadata": {
        "colab": {
          "base_uri": "https://localhost:8080/",
          "height": 397
        },
        "id": "UPQI9fofdqo7",
        "outputId": "e92bef12-4935-4b24-963c-ec9a83c94915"
      },
      "outputs": [
        {
          "data": {
            "text/plain": [
              "lang\n",
              "en     2336\n",
              "und       7\n",
              "in        3\n",
              "nl        3\n",
              "eu        1\n",
              "es        1\n",
              "tl        1\n",
              "ro        1\n",
              "et        1\n",
              "Name: count, dtype: int64"
            ]
          },
          "execution_count": 381,
          "metadata": {},
          "output_type": "execute_result"
        }
      ],
      "source": [
        "#Checking for languages\n",
        "tweets_df['lang'].value_counts()"
      ]
    },
    {
      "cell_type": "markdown",
      "metadata": {
        "id": "GW_nQRR-dqo7"
      },
      "source": [
        "### Quality issues\n",
        "1. Inconsistent Rating Denominator\n",
        "\n",
        "2. Duplicate columns\n",
        "\n",
        "3. Unwanted Languages\n",
        "\n",
        "4. Unused Columns\n",
        "\n",
        "5. Missing Values\n",
        "\n",
        "6. Outliers Ratings\n",
        "\n",
        "7. invalid Dog Names\n",
        "\n",
        "8. HTML Tags\n",
        "\n",
        "9. Inconsistent Column Name\n",
        "\n",
        "10. Wrong Data Types\n",
        "\n",
        "11. Retweets And Replies"
      ]
    },
    {
      "cell_type": "markdown",
      "metadata": {
        "extensions": {
          "jupyter_dashboards": {
            "version": 1,
            "views": {
              "grid_default": {
                "col": 0,
                "height": 7,
                "hidden": false,
                "row": 40,
                "width": 12
              },
              "report_default": {
                "hidden": false
              }
            }
          }
        },
        "id": "2DVOr6mLdqo7"
      },
      "source": [
        "### Tidiness issues\n",
        "\n",
        "1. Unmerged Tables\n",
        "\n",
        "2. Untidy Dog Stages"
      ]
    },
    {
      "cell_type": "markdown",
      "metadata": {
        "extensions": {
          "jupyter_dashboards": {
            "version": 1,
            "views": {
              "grid_default": {
                "col": 4,
                "height": 4,
                "hidden": false,
                "row": 32,
                "width": 4
              },
              "report_default": {
                "hidden": false
              }
            }
          }
        },
        "id": "XaFautUSdqo7"
      },
      "source": [
        "## Cleaning Data"
      ]
    },
    {
      "cell_type": "code",
      "execution_count": 382,
      "metadata": {
        "id": "qfBLTxlodqo7"
      },
      "outputs": [],
      "source": [
        "# Make copies of original pieces of data\n",
        "twitter_archive_copy = twitter_archive.copy()\n",
        "image_predictions_copy = image_predictions.copy()\n",
        "tweets_df_copy = tweets_df.copy()"
      ]
    },
    {
      "cell_type": "markdown",
      "metadata": {
        "id": "rznbotX0dqo8"
      },
      "source": [
        "### Issue #1: Inconsistent Column Name"
      ]
    },
    {
      "cell_type": "markdown",
      "metadata": {
        "id": "TZX1nH5Kdqo8"
      },
      "source": [
        "#### Define: The name of the id column doesn't match other datasets which can cause problems in merging"
      ]
    },
    {
      "cell_type": "markdown",
      "metadata": {
        "id": "0nTqi3hwdqo8"
      },
      "source": [
        "#### Code"
      ]
    },
    {
      "cell_type": "code",
      "execution_count": 383,
      "metadata": {
        "id": "pgVGE3zedqo8"
      },
      "outputs": [],
      "source": [
        "#here I am renaming the id column to match other datasets\n",
        "tweets_df_copy.rename(columns={'id': 'tweet_id'}, inplace=True)"
      ]
    },
    {
      "cell_type": "markdown",
      "metadata": {
        "id": "RQwKagy3dqo8"
      },
      "source": [
        "#### Test"
      ]
    },
    {
      "cell_type": "code",
      "execution_count": 384,
      "metadata": {
        "colab": {
          "base_uri": "https://localhost:8080/",
          "height": 0
        },
        "id": "OqoFSSfAdqo9",
        "outputId": "9bc2ae19-f1bd-48c2-edf0-3beb1d84c9cc"
      },
      "outputs": [
        {
          "data": {
            "text/plain": [
              "0       892420643555336193\n",
              "1       892177421306343426\n",
              "2       891815181378084864\n",
              "3       891689557279858688\n",
              "4       891327558926688256\n",
              "               ...        \n",
              "2349    666049248165822465\n",
              "2350    666044226329800704\n",
              "2351    666033412701032449\n",
              "2352    666029285002620928\n",
              "2353    666020888022790149\n",
              "Name: tweet_id, Length: 2354, dtype: int64"
            ]
          },
          "execution_count": 384,
          "metadata": {},
          "output_type": "execute_result"
        }
      ],
      "source": [
        "tweets_df_copy['tweet_id']"
      ]
    },
    {
      "cell_type": "markdown",
      "metadata": {
        "id": "bjpwhgIUdqo9"
      },
      "source": [
        "### Issue #2: Unmerged Tables"
      ]
    },
    {
      "cell_type": "markdown",
      "metadata": {
        "id": "3qo3yeRqdqo9"
      },
      "source": [
        "#### Define: There are alot of tables that can be merged into 1 master dataset"
      ]
    },
    {
      "cell_type": "markdown",
      "metadata": {
        "id": "iu0ucOw8dqo9"
      },
      "source": [
        "#### Code"
      ]
    },
    {
      "cell_type": "code",
      "execution_count": 385,
      "metadata": {
        "id": "0p4jFjwedqpG"
      },
      "outputs": [],
      "source": [
        "# Merging the datasets\n",
        "master_df = pd.merge(twitter_archive_copy, image_predictions_copy, on='tweet_id', how='outer')\n",
        "master_df = pd.merge(master_df, tweets_df_copy, on='tweet_id', how='outer')"
      ]
    },
    {
      "cell_type": "markdown",
      "metadata": {
        "id": "ZgewkjkGdqpH"
      },
      "source": [
        "#### Test"
      ]
    },
    {
      "cell_type": "code",
      "execution_count": 386,
      "metadata": {
        "colab": {
          "base_uri": "https://localhost:8080/",
          "height": 0
        },
        "id": "fBCKou3OdqpH",
        "outputId": "bd5b9d90-8f22-4284-c12b-599dd9da36cf"
      },
      "outputs": [
        {
          "data": {
            "text/html": [
              "<div>\n",
              "<style scoped>\n",
              "    .dataframe tbody tr th:only-of-type {\n",
              "        vertical-align: middle;\n",
              "    }\n",
              "\n",
              "    .dataframe tbody tr th {\n",
              "        vertical-align: top;\n",
              "    }\n",
              "\n",
              "    .dataframe thead th {\n",
              "        text-align: right;\n",
              "    }\n",
              "</style>\n",
              "<table border=\"1\" class=\"dataframe\">\n",
              "  <thead>\n",
              "    <tr style=\"text-align: right;\">\n",
              "      <th></th>\n",
              "      <th>tweet_id</th>\n",
              "      <th>in_reply_to_status_id_x</th>\n",
              "      <th>in_reply_to_user_id_x</th>\n",
              "      <th>timestamp</th>\n",
              "      <th>source_x</th>\n",
              "      <th>text</th>\n",
              "      <th>retweeted_status_id</th>\n",
              "      <th>retweeted_status_user_id</th>\n",
              "      <th>retweeted_status_timestamp</th>\n",
              "      <th>expanded_urls</th>\n",
              "      <th>rating_numerator</th>\n",
              "      <th>rating_denominator</th>\n",
              "      <th>name</th>\n",
              "      <th>doggo</th>\n",
              "      <th>floofer</th>\n",
              "      <th>pupper</th>\n",
              "      <th>puppo</th>\n",
              "      <th>jpg_url</th>\n",
              "      <th>img_num</th>\n",
              "      <th>p1</th>\n",
              "      <th>p1_conf</th>\n",
              "      <th>p1_dog</th>\n",
              "      <th>p2</th>\n",
              "      <th>p2_conf</th>\n",
              "      <th>p2_dog</th>\n",
              "      <th>p3</th>\n",
              "      <th>p3_conf</th>\n",
              "      <th>p3_dog</th>\n",
              "      <th>created_at</th>\n",
              "      <th>id_str</th>\n",
              "      <th>full_text</th>\n",
              "      <th>truncated</th>\n",
              "      <th>display_text_range</th>\n",
              "      <th>entities</th>\n",
              "      <th>extended_entities</th>\n",
              "      <th>source_y</th>\n",
              "      <th>in_reply_to_status_id_y</th>\n",
              "      <th>in_reply_to_status_id_str</th>\n",
              "      <th>in_reply_to_user_id_y</th>\n",
              "      <th>in_reply_to_user_id_str</th>\n",
              "      <th>in_reply_to_screen_name</th>\n",
              "      <th>user</th>\n",
              "      <th>geo</th>\n",
              "      <th>coordinates</th>\n",
              "      <th>place</th>\n",
              "      <th>contributors</th>\n",
              "      <th>is_quote_status</th>\n",
              "      <th>retweet_count</th>\n",
              "      <th>favorite_count</th>\n",
              "      <th>favorited</th>\n",
              "      <th>retweeted</th>\n",
              "      <th>possibly_sensitive</th>\n",
              "      <th>possibly_sensitive_appealable</th>\n",
              "      <th>lang</th>\n",
              "      <th>retweeted_status</th>\n",
              "      <th>quoted_status_id</th>\n",
              "      <th>quoted_status_id_str</th>\n",
              "      <th>quoted_status</th>\n",
              "    </tr>\n",
              "  </thead>\n",
              "  <tbody>\n",
              "    <tr>\n",
              "      <th>0</th>\n",
              "      <td>666020888022790149</td>\n",
              "      <td>NaN</td>\n",
              "      <td>NaN</td>\n",
              "      <td>2015-11-15 22:32:08 +0000</td>\n",
              "      <td>&lt;a href=\"http://twitter.com/download/iphone\" r...</td>\n",
              "      <td>Here we have a Japanese Irish Setter. Lost eye...</td>\n",
              "      <td>NaN</td>\n",
              "      <td>NaN</td>\n",
              "      <td>NaN</td>\n",
              "      <td>https://twitter.com/dog_rates/status/666020888...</td>\n",
              "      <td>8</td>\n",
              "      <td>10</td>\n",
              "      <td>NaN</td>\n",
              "      <td>NaN</td>\n",
              "      <td>NaN</td>\n",
              "      <td>NaN</td>\n",
              "      <td>NaN</td>\n",
              "      <td>https://pbs.twimg.com/media/CT4udn0WwAA0aMy.jpg</td>\n",
              "      <td>1.0</td>\n",
              "      <td>Welsh_springer_spaniel</td>\n",
              "      <td>0.465074</td>\n",
              "      <td>True</td>\n",
              "      <td>collie</td>\n",
              "      <td>0.156665</td>\n",
              "      <td>True</td>\n",
              "      <td>Shetland_sheepdog</td>\n",
              "      <td>0.061428</td>\n",
              "      <td>True</td>\n",
              "      <td>Sun Nov 15 22:32:08 +0000 2015</td>\n",
              "      <td>666020888022790149</td>\n",
              "      <td>Here we have a Japanese Irish Setter. Lost eye...</td>\n",
              "      <td>False</td>\n",
              "      <td>[0, 131]</td>\n",
              "      <td>{'hashtags': [], 'symbols': [], 'user_mentions...</td>\n",
              "      <td>{'media': [{'id': 666020881337073664, 'id_str'...</td>\n",
              "      <td>&lt;a href=\"http://twitter.com/download/iphone\" r...</td>\n",
              "      <td>NaN</td>\n",
              "      <td>None</td>\n",
              "      <td>NaN</td>\n",
              "      <td>None</td>\n",
              "      <td>None</td>\n",
              "      <td>{'id': 4196983835, 'id_str': '4196983835', 'na...</td>\n",
              "      <td>None</td>\n",
              "      <td>None</td>\n",
              "      <td>None</td>\n",
              "      <td>None</td>\n",
              "      <td>False</td>\n",
              "      <td>532.0</td>\n",
              "      <td>2535.0</td>\n",
              "      <td>False</td>\n",
              "      <td>False</td>\n",
              "      <td>False</td>\n",
              "      <td>False</td>\n",
              "      <td>en</td>\n",
              "      <td>NaN</td>\n",
              "      <td>NaN</td>\n",
              "      <td>NaN</td>\n",
              "      <td>NaN</td>\n",
              "    </tr>\n",
              "    <tr>\n",
              "      <th>1</th>\n",
              "      <td>666029285002620928</td>\n",
              "      <td>NaN</td>\n",
              "      <td>NaN</td>\n",
              "      <td>2015-11-15 23:05:30 +0000</td>\n",
              "      <td>&lt;a href=\"http://twitter.com/download/iphone\" r...</td>\n",
              "      <td>This is a western brown Mitsubishi terrier. Up...</td>\n",
              "      <td>NaN</td>\n",
              "      <td>NaN</td>\n",
              "      <td>NaN</td>\n",
              "      <td>https://twitter.com/dog_rates/status/666029285...</td>\n",
              "      <td>7</td>\n",
              "      <td>10</td>\n",
              "      <td>a</td>\n",
              "      <td>NaN</td>\n",
              "      <td>NaN</td>\n",
              "      <td>NaN</td>\n",
              "      <td>NaN</td>\n",
              "      <td>https://pbs.twimg.com/media/CT42GRgUYAA5iDo.jpg</td>\n",
              "      <td>1.0</td>\n",
              "      <td>redbone</td>\n",
              "      <td>0.506826</td>\n",
              "      <td>True</td>\n",
              "      <td>miniature_pinscher</td>\n",
              "      <td>0.074192</td>\n",
              "      <td>True</td>\n",
              "      <td>Rhodesian_ridgeback</td>\n",
              "      <td>0.072010</td>\n",
              "      <td>True</td>\n",
              "      <td>Sun Nov 15 23:05:30 +0000 2015</td>\n",
              "      <td>666029285002620928</td>\n",
              "      <td>This is a western brown Mitsubishi terrier. Up...</td>\n",
              "      <td>False</td>\n",
              "      <td>[0, 139]</td>\n",
              "      <td>{'hashtags': [], 'symbols': [], 'user_mentions...</td>\n",
              "      <td>{'media': [{'id': 666029276303482880, 'id_str'...</td>\n",
              "      <td>&lt;a href=\"http://twitter.com/download/iphone\" r...</td>\n",
              "      <td>NaN</td>\n",
              "      <td>None</td>\n",
              "      <td>NaN</td>\n",
              "      <td>None</td>\n",
              "      <td>None</td>\n",
              "      <td>{'id': 4196983835, 'id_str': '4196983835', 'na...</td>\n",
              "      <td>None</td>\n",
              "      <td>None</td>\n",
              "      <td>None</td>\n",
              "      <td>None</td>\n",
              "      <td>False</td>\n",
              "      <td>48.0</td>\n",
              "      <td>132.0</td>\n",
              "      <td>False</td>\n",
              "      <td>False</td>\n",
              "      <td>False</td>\n",
              "      <td>False</td>\n",
              "      <td>en</td>\n",
              "      <td>NaN</td>\n",
              "      <td>NaN</td>\n",
              "      <td>NaN</td>\n",
              "      <td>NaN</td>\n",
              "    </tr>\n",
              "    <tr>\n",
              "      <th>2</th>\n",
              "      <td>666033412701032449</td>\n",
              "      <td>NaN</td>\n",
              "      <td>NaN</td>\n",
              "      <td>2015-11-15 23:21:54 +0000</td>\n",
              "      <td>&lt;a href=\"http://twitter.com/download/iphone\" r...</td>\n",
              "      <td>Here is a very happy pup. Big fan of well-main...</td>\n",
              "      <td>NaN</td>\n",
              "      <td>NaN</td>\n",
              "      <td>NaN</td>\n",
              "      <td>https://twitter.com/dog_rates/status/666033412...</td>\n",
              "      <td>9</td>\n",
              "      <td>10</td>\n",
              "      <td>a</td>\n",
              "      <td>NaN</td>\n",
              "      <td>NaN</td>\n",
              "      <td>NaN</td>\n",
              "      <td>NaN</td>\n",
              "      <td>https://pbs.twimg.com/media/CT4521TWwAEvMyu.jpg</td>\n",
              "      <td>1.0</td>\n",
              "      <td>German_shepherd</td>\n",
              "      <td>0.596461</td>\n",
              "      <td>True</td>\n",
              "      <td>malinois</td>\n",
              "      <td>0.138584</td>\n",
              "      <td>True</td>\n",
              "      <td>bloodhound</td>\n",
              "      <td>0.116197</td>\n",
              "      <td>True</td>\n",
              "      <td>Sun Nov 15 23:21:54 +0000 2015</td>\n",
              "      <td>666033412701032449</td>\n",
              "      <td>Here is a very happy pup. Big fan of well-main...</td>\n",
              "      <td>False</td>\n",
              "      <td>[0, 130]</td>\n",
              "      <td>{'hashtags': [], 'symbols': [], 'user_mentions...</td>\n",
              "      <td>{'media': [{'id': 666033409081393153, 'id_str'...</td>\n",
              "      <td>&lt;a href=\"http://twitter.com/download/iphone\" r...</td>\n",
              "      <td>NaN</td>\n",
              "      <td>None</td>\n",
              "      <td>NaN</td>\n",
              "      <td>None</td>\n",
              "      <td>None</td>\n",
              "      <td>{'id': 4196983835, 'id_str': '4196983835', 'na...</td>\n",
              "      <td>None</td>\n",
              "      <td>None</td>\n",
              "      <td>None</td>\n",
              "      <td>None</td>\n",
              "      <td>False</td>\n",
              "      <td>47.0</td>\n",
              "      <td>128.0</td>\n",
              "      <td>False</td>\n",
              "      <td>False</td>\n",
              "      <td>False</td>\n",
              "      <td>False</td>\n",
              "      <td>en</td>\n",
              "      <td>NaN</td>\n",
              "      <td>NaN</td>\n",
              "      <td>NaN</td>\n",
              "      <td>NaN</td>\n",
              "    </tr>\n",
              "    <tr>\n",
              "      <th>3</th>\n",
              "      <td>666044226329800704</td>\n",
              "      <td>NaN</td>\n",
              "      <td>NaN</td>\n",
              "      <td>2015-11-16 00:04:52 +0000</td>\n",
              "      <td>&lt;a href=\"http://twitter.com/download/iphone\" r...</td>\n",
              "      <td>This is a purebred Piers Morgan. Loves to Netf...</td>\n",
              "      <td>NaN</td>\n",
              "      <td>NaN</td>\n",
              "      <td>NaN</td>\n",
              "      <td>https://twitter.com/dog_rates/status/666044226...</td>\n",
              "      <td>6</td>\n",
              "      <td>10</td>\n",
              "      <td>a</td>\n",
              "      <td>NaN</td>\n",
              "      <td>NaN</td>\n",
              "      <td>NaN</td>\n",
              "      <td>NaN</td>\n",
              "      <td>https://pbs.twimg.com/media/CT5Dr8HUEAA-lEu.jpg</td>\n",
              "      <td>1.0</td>\n",
              "      <td>Rhodesian_ridgeback</td>\n",
              "      <td>0.408143</td>\n",
              "      <td>True</td>\n",
              "      <td>redbone</td>\n",
              "      <td>0.360687</td>\n",
              "      <td>True</td>\n",
              "      <td>miniature_pinscher</td>\n",
              "      <td>0.222752</td>\n",
              "      <td>True</td>\n",
              "      <td>Mon Nov 16 00:04:52 +0000 2015</td>\n",
              "      <td>666044226329800704</td>\n",
              "      <td>This is a purebred Piers Morgan. Loves to Netf...</td>\n",
              "      <td>False</td>\n",
              "      <td>[0, 137]</td>\n",
              "      <td>{'hashtags': [], 'symbols': [], 'user_mentions...</td>\n",
              "      <td>{'media': [{'id': 666044217047650304, 'id_str'...</td>\n",
              "      <td>&lt;a href=\"http://twitter.com/download/iphone\" r...</td>\n",
              "      <td>NaN</td>\n",
              "      <td>None</td>\n",
              "      <td>NaN</td>\n",
              "      <td>None</td>\n",
              "      <td>None</td>\n",
              "      <td>{'id': 4196983835, 'id_str': '4196983835', 'na...</td>\n",
              "      <td>None</td>\n",
              "      <td>None</td>\n",
              "      <td>None</td>\n",
              "      <td>None</td>\n",
              "      <td>False</td>\n",
              "      <td>147.0</td>\n",
              "      <td>311.0</td>\n",
              "      <td>False</td>\n",
              "      <td>False</td>\n",
              "      <td>False</td>\n",
              "      <td>False</td>\n",
              "      <td>en</td>\n",
              "      <td>NaN</td>\n",
              "      <td>NaN</td>\n",
              "      <td>NaN</td>\n",
              "      <td>NaN</td>\n",
              "    </tr>\n",
              "    <tr>\n",
              "      <th>4</th>\n",
              "      <td>666049248165822465</td>\n",
              "      <td>NaN</td>\n",
              "      <td>NaN</td>\n",
              "      <td>2015-11-16 00:24:50 +0000</td>\n",
              "      <td>&lt;a href=\"http://twitter.com/download/iphone\" r...</td>\n",
              "      <td>Here we have a 1949 1st generation vulpix. Enj...</td>\n",
              "      <td>NaN</td>\n",
              "      <td>NaN</td>\n",
              "      <td>NaN</td>\n",
              "      <td>https://twitter.com/dog_rates/status/666049248...</td>\n",
              "      <td>5</td>\n",
              "      <td>10</td>\n",
              "      <td>NaN</td>\n",
              "      <td>NaN</td>\n",
              "      <td>NaN</td>\n",
              "      <td>NaN</td>\n",
              "      <td>NaN</td>\n",
              "      <td>https://pbs.twimg.com/media/CT5IQmsXIAAKY4A.jpg</td>\n",
              "      <td>1.0</td>\n",
              "      <td>miniature_pinscher</td>\n",
              "      <td>0.560311</td>\n",
              "      <td>True</td>\n",
              "      <td>Rottweiler</td>\n",
              "      <td>0.243682</td>\n",
              "      <td>True</td>\n",
              "      <td>Doberman</td>\n",
              "      <td>0.154629</td>\n",
              "      <td>True</td>\n",
              "      <td>Mon Nov 16 00:24:50 +0000 2015</td>\n",
              "      <td>666049248165822465</td>\n",
              "      <td>Here we have a 1949 1st generation vulpix. Enj...</td>\n",
              "      <td>False</td>\n",
              "      <td>[0, 120]</td>\n",
              "      <td>{'hashtags': [], 'symbols': [], 'user_mentions...</td>\n",
              "      <td>{'media': [{'id': 666049244999131136, 'id_str'...</td>\n",
              "      <td>&lt;a href=\"http://twitter.com/download/iphone\" r...</td>\n",
              "      <td>NaN</td>\n",
              "      <td>None</td>\n",
              "      <td>NaN</td>\n",
              "      <td>None</td>\n",
              "      <td>None</td>\n",
              "      <td>{'id': 4196983835, 'id_str': '4196983835', 'na...</td>\n",
              "      <td>None</td>\n",
              "      <td>None</td>\n",
              "      <td>None</td>\n",
              "      <td>None</td>\n",
              "      <td>False</td>\n",
              "      <td>41.0</td>\n",
              "      <td>111.0</td>\n",
              "      <td>False</td>\n",
              "      <td>False</td>\n",
              "      <td>False</td>\n",
              "      <td>False</td>\n",
              "      <td>en</td>\n",
              "      <td>NaN</td>\n",
              "      <td>NaN</td>\n",
              "      <td>NaN</td>\n",
              "      <td>NaN</td>\n",
              "    </tr>\n",
              "  </tbody>\n",
              "</table>\n",
              "</div>"
            ],
            "text/plain": [
              "             tweet_id  in_reply_to_status_id_x  in_reply_to_user_id_x  \\\n",
              "0  666020888022790149                      NaN                    NaN   \n",
              "1  666029285002620928                      NaN                    NaN   \n",
              "2  666033412701032449                      NaN                    NaN   \n",
              "3  666044226329800704                      NaN                    NaN   \n",
              "4  666049248165822465                      NaN                    NaN   \n",
              "\n",
              "                   timestamp  \\\n",
              "0  2015-11-15 22:32:08 +0000   \n",
              "1  2015-11-15 23:05:30 +0000   \n",
              "2  2015-11-15 23:21:54 +0000   \n",
              "3  2015-11-16 00:04:52 +0000   \n",
              "4  2015-11-16 00:24:50 +0000   \n",
              "\n",
              "                                            source_x  \\\n",
              "0  <a href=\"http://twitter.com/download/iphone\" r...   \n",
              "1  <a href=\"http://twitter.com/download/iphone\" r...   \n",
              "2  <a href=\"http://twitter.com/download/iphone\" r...   \n",
              "3  <a href=\"http://twitter.com/download/iphone\" r...   \n",
              "4  <a href=\"http://twitter.com/download/iphone\" r...   \n",
              "\n",
              "                                                text  retweeted_status_id  \\\n",
              "0  Here we have a Japanese Irish Setter. Lost eye...                  NaN   \n",
              "1  This is a western brown Mitsubishi terrier. Up...                  NaN   \n",
              "2  Here is a very happy pup. Big fan of well-main...                  NaN   \n",
              "3  This is a purebred Piers Morgan. Loves to Netf...                  NaN   \n",
              "4  Here we have a 1949 1st generation vulpix. Enj...                  NaN   \n",
              "\n",
              "   retweeted_status_user_id retweeted_status_timestamp  \\\n",
              "0                       NaN                        NaN   \n",
              "1                       NaN                        NaN   \n",
              "2                       NaN                        NaN   \n",
              "3                       NaN                        NaN   \n",
              "4                       NaN                        NaN   \n",
              "\n",
              "                                       expanded_urls  rating_numerator  \\\n",
              "0  https://twitter.com/dog_rates/status/666020888...                 8   \n",
              "1  https://twitter.com/dog_rates/status/666029285...                 7   \n",
              "2  https://twitter.com/dog_rates/status/666033412...                 9   \n",
              "3  https://twitter.com/dog_rates/status/666044226...                 6   \n",
              "4  https://twitter.com/dog_rates/status/666049248...                 5   \n",
              "\n",
              "   rating_denominator name doggo floofer pupper puppo  \\\n",
              "0                  10  NaN   NaN     NaN    NaN   NaN   \n",
              "1                  10    a   NaN     NaN    NaN   NaN   \n",
              "2                  10    a   NaN     NaN    NaN   NaN   \n",
              "3                  10    a   NaN     NaN    NaN   NaN   \n",
              "4                  10  NaN   NaN     NaN    NaN   NaN   \n",
              "\n",
              "                                           jpg_url  img_num  \\\n",
              "0  https://pbs.twimg.com/media/CT4udn0WwAA0aMy.jpg      1.0   \n",
              "1  https://pbs.twimg.com/media/CT42GRgUYAA5iDo.jpg      1.0   \n",
              "2  https://pbs.twimg.com/media/CT4521TWwAEvMyu.jpg      1.0   \n",
              "3  https://pbs.twimg.com/media/CT5Dr8HUEAA-lEu.jpg      1.0   \n",
              "4  https://pbs.twimg.com/media/CT5IQmsXIAAKY4A.jpg      1.0   \n",
              "\n",
              "                       p1   p1_conf p1_dog                  p2   p2_conf  \\\n",
              "0  Welsh_springer_spaniel  0.465074   True              collie  0.156665   \n",
              "1                 redbone  0.506826   True  miniature_pinscher  0.074192   \n",
              "2         German_shepherd  0.596461   True            malinois  0.138584   \n",
              "3     Rhodesian_ridgeback  0.408143   True             redbone  0.360687   \n",
              "4      miniature_pinscher  0.560311   True          Rottweiler  0.243682   \n",
              "\n",
              "  p2_dog                   p3   p3_conf p3_dog  \\\n",
              "0   True    Shetland_sheepdog  0.061428   True   \n",
              "1   True  Rhodesian_ridgeback  0.072010   True   \n",
              "2   True           bloodhound  0.116197   True   \n",
              "3   True   miniature_pinscher  0.222752   True   \n",
              "4   True             Doberman  0.154629   True   \n",
              "\n",
              "                       created_at              id_str  \\\n",
              "0  Sun Nov 15 22:32:08 +0000 2015  666020888022790149   \n",
              "1  Sun Nov 15 23:05:30 +0000 2015  666029285002620928   \n",
              "2  Sun Nov 15 23:21:54 +0000 2015  666033412701032449   \n",
              "3  Mon Nov 16 00:04:52 +0000 2015  666044226329800704   \n",
              "4  Mon Nov 16 00:24:50 +0000 2015  666049248165822465   \n",
              "\n",
              "                                           full_text truncated  \\\n",
              "0  Here we have a Japanese Irish Setter. Lost eye...     False   \n",
              "1  This is a western brown Mitsubishi terrier. Up...     False   \n",
              "2  Here is a very happy pup. Big fan of well-main...     False   \n",
              "3  This is a purebred Piers Morgan. Loves to Netf...     False   \n",
              "4  Here we have a 1949 1st generation vulpix. Enj...     False   \n",
              "\n",
              "  display_text_range                                           entities  \\\n",
              "0           [0, 131]  {'hashtags': [], 'symbols': [], 'user_mentions...   \n",
              "1           [0, 139]  {'hashtags': [], 'symbols': [], 'user_mentions...   \n",
              "2           [0, 130]  {'hashtags': [], 'symbols': [], 'user_mentions...   \n",
              "3           [0, 137]  {'hashtags': [], 'symbols': [], 'user_mentions...   \n",
              "4           [0, 120]  {'hashtags': [], 'symbols': [], 'user_mentions...   \n",
              "\n",
              "                                   extended_entities  \\\n",
              "0  {'media': [{'id': 666020881337073664, 'id_str'...   \n",
              "1  {'media': [{'id': 666029276303482880, 'id_str'...   \n",
              "2  {'media': [{'id': 666033409081393153, 'id_str'...   \n",
              "3  {'media': [{'id': 666044217047650304, 'id_str'...   \n",
              "4  {'media': [{'id': 666049244999131136, 'id_str'...   \n",
              "\n",
              "                                            source_y  in_reply_to_status_id_y  \\\n",
              "0  <a href=\"http://twitter.com/download/iphone\" r...                      NaN   \n",
              "1  <a href=\"http://twitter.com/download/iphone\" r...                      NaN   \n",
              "2  <a href=\"http://twitter.com/download/iphone\" r...                      NaN   \n",
              "3  <a href=\"http://twitter.com/download/iphone\" r...                      NaN   \n",
              "4  <a href=\"http://twitter.com/download/iphone\" r...                      NaN   \n",
              "\n",
              "  in_reply_to_status_id_str  in_reply_to_user_id_y in_reply_to_user_id_str  \\\n",
              "0                      None                    NaN                    None   \n",
              "1                      None                    NaN                    None   \n",
              "2                      None                    NaN                    None   \n",
              "3                      None                    NaN                    None   \n",
              "4                      None                    NaN                    None   \n",
              "\n",
              "  in_reply_to_screen_name                                               user  \\\n",
              "0                    None  {'id': 4196983835, 'id_str': '4196983835', 'na...   \n",
              "1                    None  {'id': 4196983835, 'id_str': '4196983835', 'na...   \n",
              "2                    None  {'id': 4196983835, 'id_str': '4196983835', 'na...   \n",
              "3                    None  {'id': 4196983835, 'id_str': '4196983835', 'na...   \n",
              "4                    None  {'id': 4196983835, 'id_str': '4196983835', 'na...   \n",
              "\n",
              "    geo coordinates place contributors is_quote_status  retweet_count  \\\n",
              "0  None        None  None         None           False          532.0   \n",
              "1  None        None  None         None           False           48.0   \n",
              "2  None        None  None         None           False           47.0   \n",
              "3  None        None  None         None           False          147.0   \n",
              "4  None        None  None         None           False           41.0   \n",
              "\n",
              "   favorite_count favorited retweeted possibly_sensitive  \\\n",
              "0          2535.0     False     False              False   \n",
              "1           132.0     False     False              False   \n",
              "2           128.0     False     False              False   \n",
              "3           311.0     False     False              False   \n",
              "4           111.0     False     False              False   \n",
              "\n",
              "  possibly_sensitive_appealable lang retweeted_status  quoted_status_id  \\\n",
              "0                         False   en              NaN               NaN   \n",
              "1                         False   en              NaN               NaN   \n",
              "2                         False   en              NaN               NaN   \n",
              "3                         False   en              NaN               NaN   \n",
              "4                         False   en              NaN               NaN   \n",
              "\n",
              "  quoted_status_id_str quoted_status  \n",
              "0                  NaN           NaN  \n",
              "1                  NaN           NaN  \n",
              "2                  NaN           NaN  \n",
              "3                  NaN           NaN  \n",
              "4                  NaN           NaN  "
            ]
          },
          "execution_count": 386,
          "metadata": {},
          "output_type": "execute_result"
        }
      ],
      "source": [
        "pd.set_option(\"display.max_columns\", None)\n",
        "master_df.head()"
      ]
    },
    {
      "cell_type": "markdown",
      "metadata": {},
      "source": [
        "### Issue #3: Retweets And Replies"
      ]
    },
    {
      "cell_type": "markdown",
      "metadata": {},
      "source": [
        "#### Define: Tweets And Replies are bad because they make bad analysis so we remove them"
      ]
    },
    {
      "cell_type": "markdown",
      "metadata": {},
      "source": [
        "#### Code"
      ]
    },
    {
      "cell_type": "code",
      "execution_count": 387,
      "metadata": {},
      "outputs": [],
      "source": [
        "# To remove the retweet\n",
        "master_df = master_df[master_df['retweeted_status_id'].isnull()]\n",
        "# To remove the replies\n",
        "master_df = master_df[master_df['in_reply_to_status_id_x'].isnull()]"
      ]
    },
    {
      "cell_type": "markdown",
      "metadata": {},
      "source": [
        "#### Test"
      ]
    },
    {
      "cell_type": "code",
      "execution_count": 388,
      "metadata": {},
      "outputs": [
        {
          "name": "stdout",
          "output_type": "stream",
          "text": [
            "<class 'pandas.core.frame.DataFrame'>\n",
            "Index: 2097 entries, 0 to 2355\n",
            "Data columns (total 58 columns):\n",
            " #   Column                         Non-Null Count  Dtype  \n",
            "---  ------                         --------------  -----  \n",
            " 0   tweet_id                       2097 non-null   int64  \n",
            " 1   in_reply_to_status_id_x        0 non-null      float64\n",
            " 2   in_reply_to_user_id_x          0 non-null      float64\n",
            " 3   timestamp                      2097 non-null   object \n",
            " 4   source_x                       2097 non-null   object \n",
            " 5   text                           2097 non-null   object \n",
            " 6   retweeted_status_id            0 non-null      float64\n",
            " 7   retweeted_status_user_id       0 non-null      float64\n",
            " 8   retweeted_status_timestamp     0 non-null      object \n",
            " 9   expanded_urls                  2094 non-null   object \n",
            " 10  rating_numerator               2097 non-null   int64  \n",
            " 11  rating_denominator             2097 non-null   int64  \n",
            " 12  name                           1494 non-null   object \n",
            " 13  doggo                          83 non-null     object \n",
            " 14  floofer                        10 non-null     object \n",
            " 15  pupper                         230 non-null    object \n",
            " 16  puppo                          24 non-null     object \n",
            " 17  jpg_url                        1971 non-null   object \n",
            " 18  img_num                        1971 non-null   float64\n",
            " 19  p1                             1971 non-null   object \n",
            " 20  p1_conf                        1971 non-null   float64\n",
            " 21  p1_dog                         1971 non-null   object \n",
            " 22  p2                             1971 non-null   object \n",
            " 23  p2_conf                        1971 non-null   float64\n",
            " 24  p2_dog                         1971 non-null   object \n",
            " 25  p3                             1971 non-null   object \n",
            " 26  p3_conf                        1971 non-null   float64\n",
            " 27  p3_dog                         1971 non-null   object \n",
            " 28  created_at                     2097 non-null   object \n",
            " 29  id_str                         2097 non-null   object \n",
            " 30  full_text                      2097 non-null   object \n",
            " 31  truncated                      2097 non-null   object \n",
            " 32  display_text_range             2097 non-null   object \n",
            " 33  entities                       2097 non-null   object \n",
            " 34  extended_entities              1971 non-null   object \n",
            " 35  source_y                       2097 non-null   object \n",
            " 36  in_reply_to_status_id_y        0 non-null      float64\n",
            " 37  in_reply_to_status_id_str      0 non-null      object \n",
            " 38  in_reply_to_user_id_y          0 non-null      float64\n",
            " 39  in_reply_to_user_id_str        0 non-null      object \n",
            " 40  in_reply_to_screen_name        0 non-null      object \n",
            " 41  user                           2097 non-null   object \n",
            " 42  geo                            0 non-null      object \n",
            " 43  coordinates                    0 non-null      object \n",
            " 44  place                          1 non-null      object \n",
            " 45  contributors                   0 non-null      object \n",
            " 46  is_quote_status                2097 non-null   object \n",
            " 47  retweet_count                  2097 non-null   float64\n",
            " 48  favorite_count                 2097 non-null   float64\n",
            " 49  favorited                      2097 non-null   object \n",
            " 50  retweeted                      2097 non-null   object \n",
            " 51  possibly_sensitive             2094 non-null   object \n",
            " 52  possibly_sensitive_appealable  2094 non-null   object \n",
            " 53  lang                           2097 non-null   object \n",
            " 54  retweeted_status               0 non-null      object \n",
            " 55  quoted_status_id               28 non-null     float64\n",
            " 56  quoted_status_id_str           28 non-null     object \n",
            " 57  quoted_status                  28 non-null     object \n",
            "dtypes: float64(13), int64(3), object(42)\n",
            "memory usage: 966.6+ KB\n"
          ]
        }
      ],
      "source": [
        "master_df.info()"
      ]
    },
    {
      "cell_type": "markdown",
      "metadata": {
        "id": "Wt2GyqFRdqpH"
      },
      "source": [
        "### Issue #4: Unused Columns"
      ]
    },
    {
      "cell_type": "markdown",
      "metadata": {
        "collapsed": true,
        "extensions": {
          "jupyter_dashboards": {
            "version": 1,
            "views": {
              "grid_default": {
                "hidden": true
              },
              "report_default": {
                "hidden": true
              }
            }
          }
        },
        "id": "ueq2oJp9dqpH"
      },
      "source": [
        "#### Define: Columns that we don't use and probably will not use"
      ]
    },
    {
      "cell_type": "markdown",
      "metadata": {
        "id": "1aKPqP7SdqpH"
      },
      "source": [
        "#### Code"
      ]
    },
    {
      "cell_type": "code",
      "execution_count": 389,
      "metadata": {
        "id": "8H6qobMhdqpH"
      },
      "outputs": [],
      "source": [
        "master_df = master_df.drop(['in_reply_to_status_id_x', 'in_reply_to_user_id_x', 'retweeted_status_id',\n",
        "                             'retweeted_status_user_id', 'retweeted_status_timestamp', 'favorited', 'retweeted',\n",
        "                             'possibly_sensitive', 'possibly_sensitive_appealable', 'place', 'contributors',\n",
        "                             'is_quote_status', 'retweeted_status', 'quoted_status_id', 'quoted_status_id_str', 'quoted_status',\n",
        "                             'in_reply_to_status_id_str', 'in_reply_to_user_id_y', 'in_reply_to_user_id_str', 'in_reply_to_screen_name',\n",
        "                             'geo', 'user', 'coordinates', 'extended_entities', 'entities', 'display_text_range', 'source_y',\n",
        "                              'in_reply_to_status_id_y', 'p3_conf', 'p3_dog', 'created_at', 'created_at', 'p1_dog', 'p2_dog', 'p2_conf',\n",
        "                              'truncated', 'img_num', 'p1_conf', 'p2', 'p3'], axis = 1)"
      ]
    },
    {
      "cell_type": "markdown",
      "metadata": {
        "id": "yqoj-LjXdqpH"
      },
      "source": [
        "#### Test"
      ]
    },
    {
      "cell_type": "code",
      "execution_count": 390,
      "metadata": {
        "colab": {
          "base_uri": "https://localhost:8080/",
          "height": 0
        },
        "id": "0-6N0ejHdqpI",
        "outputId": "6ee1cad9-f1c9-4f3d-c668-45a4c910df7c"
      },
      "outputs": [
        {
          "data": {
            "text/html": [
              "<div>\n",
              "<style scoped>\n",
              "    .dataframe tbody tr th:only-of-type {\n",
              "        vertical-align: middle;\n",
              "    }\n",
              "\n",
              "    .dataframe tbody tr th {\n",
              "        vertical-align: top;\n",
              "    }\n",
              "\n",
              "    .dataframe thead th {\n",
              "        text-align: right;\n",
              "    }\n",
              "</style>\n",
              "<table border=\"1\" class=\"dataframe\">\n",
              "  <thead>\n",
              "    <tr style=\"text-align: right;\">\n",
              "      <th></th>\n",
              "      <th>tweet_id</th>\n",
              "      <th>timestamp</th>\n",
              "      <th>source_x</th>\n",
              "      <th>text</th>\n",
              "      <th>expanded_urls</th>\n",
              "      <th>rating_numerator</th>\n",
              "      <th>rating_denominator</th>\n",
              "      <th>name</th>\n",
              "      <th>doggo</th>\n",
              "      <th>floofer</th>\n",
              "      <th>pupper</th>\n",
              "      <th>puppo</th>\n",
              "      <th>jpg_url</th>\n",
              "      <th>p1</th>\n",
              "      <th>id_str</th>\n",
              "      <th>full_text</th>\n",
              "      <th>retweet_count</th>\n",
              "      <th>favorite_count</th>\n",
              "      <th>lang</th>\n",
              "    </tr>\n",
              "  </thead>\n",
              "  <tbody>\n",
              "    <tr>\n",
              "      <th>0</th>\n",
              "      <td>666020888022790149</td>\n",
              "      <td>2015-11-15 22:32:08 +0000</td>\n",
              "      <td>&lt;a href=\"http://twitter.com/download/iphone\" r...</td>\n",
              "      <td>Here we have a Japanese Irish Setter. Lost eye...</td>\n",
              "      <td>https://twitter.com/dog_rates/status/666020888...</td>\n",
              "      <td>8</td>\n",
              "      <td>10</td>\n",
              "      <td>NaN</td>\n",
              "      <td>NaN</td>\n",
              "      <td>NaN</td>\n",
              "      <td>NaN</td>\n",
              "      <td>NaN</td>\n",
              "      <td>https://pbs.twimg.com/media/CT4udn0WwAA0aMy.jpg</td>\n",
              "      <td>Welsh_springer_spaniel</td>\n",
              "      <td>666020888022790149</td>\n",
              "      <td>Here we have a Japanese Irish Setter. Lost eye...</td>\n",
              "      <td>532.0</td>\n",
              "      <td>2535.0</td>\n",
              "      <td>en</td>\n",
              "    </tr>\n",
              "    <tr>\n",
              "      <th>1</th>\n",
              "      <td>666029285002620928</td>\n",
              "      <td>2015-11-15 23:05:30 +0000</td>\n",
              "      <td>&lt;a href=\"http://twitter.com/download/iphone\" r...</td>\n",
              "      <td>This is a western brown Mitsubishi terrier. Up...</td>\n",
              "      <td>https://twitter.com/dog_rates/status/666029285...</td>\n",
              "      <td>7</td>\n",
              "      <td>10</td>\n",
              "      <td>a</td>\n",
              "      <td>NaN</td>\n",
              "      <td>NaN</td>\n",
              "      <td>NaN</td>\n",
              "      <td>NaN</td>\n",
              "      <td>https://pbs.twimg.com/media/CT42GRgUYAA5iDo.jpg</td>\n",
              "      <td>redbone</td>\n",
              "      <td>666029285002620928</td>\n",
              "      <td>This is a western brown Mitsubishi terrier. Up...</td>\n",
              "      <td>48.0</td>\n",
              "      <td>132.0</td>\n",
              "      <td>en</td>\n",
              "    </tr>\n",
              "    <tr>\n",
              "      <th>2</th>\n",
              "      <td>666033412701032449</td>\n",
              "      <td>2015-11-15 23:21:54 +0000</td>\n",
              "      <td>&lt;a href=\"http://twitter.com/download/iphone\" r...</td>\n",
              "      <td>Here is a very happy pup. Big fan of well-main...</td>\n",
              "      <td>https://twitter.com/dog_rates/status/666033412...</td>\n",
              "      <td>9</td>\n",
              "      <td>10</td>\n",
              "      <td>a</td>\n",
              "      <td>NaN</td>\n",
              "      <td>NaN</td>\n",
              "      <td>NaN</td>\n",
              "      <td>NaN</td>\n",
              "      <td>https://pbs.twimg.com/media/CT4521TWwAEvMyu.jpg</td>\n",
              "      <td>German_shepherd</td>\n",
              "      <td>666033412701032449</td>\n",
              "      <td>Here is a very happy pup. Big fan of well-main...</td>\n",
              "      <td>47.0</td>\n",
              "      <td>128.0</td>\n",
              "      <td>en</td>\n",
              "    </tr>\n",
              "    <tr>\n",
              "      <th>3</th>\n",
              "      <td>666044226329800704</td>\n",
              "      <td>2015-11-16 00:04:52 +0000</td>\n",
              "      <td>&lt;a href=\"http://twitter.com/download/iphone\" r...</td>\n",
              "      <td>This is a purebred Piers Morgan. Loves to Netf...</td>\n",
              "      <td>https://twitter.com/dog_rates/status/666044226...</td>\n",
              "      <td>6</td>\n",
              "      <td>10</td>\n",
              "      <td>a</td>\n",
              "      <td>NaN</td>\n",
              "      <td>NaN</td>\n",
              "      <td>NaN</td>\n",
              "      <td>NaN</td>\n",
              "      <td>https://pbs.twimg.com/media/CT5Dr8HUEAA-lEu.jpg</td>\n",
              "      <td>Rhodesian_ridgeback</td>\n",
              "      <td>666044226329800704</td>\n",
              "      <td>This is a purebred Piers Morgan. Loves to Netf...</td>\n",
              "      <td>147.0</td>\n",
              "      <td>311.0</td>\n",
              "      <td>en</td>\n",
              "    </tr>\n",
              "    <tr>\n",
              "      <th>4</th>\n",
              "      <td>666049248165822465</td>\n",
              "      <td>2015-11-16 00:24:50 +0000</td>\n",
              "      <td>&lt;a href=\"http://twitter.com/download/iphone\" r...</td>\n",
              "      <td>Here we have a 1949 1st generation vulpix. Enj...</td>\n",
              "      <td>https://twitter.com/dog_rates/status/666049248...</td>\n",
              "      <td>5</td>\n",
              "      <td>10</td>\n",
              "      <td>NaN</td>\n",
              "      <td>NaN</td>\n",
              "      <td>NaN</td>\n",
              "      <td>NaN</td>\n",
              "      <td>NaN</td>\n",
              "      <td>https://pbs.twimg.com/media/CT5IQmsXIAAKY4A.jpg</td>\n",
              "      <td>miniature_pinscher</td>\n",
              "      <td>666049248165822465</td>\n",
              "      <td>Here we have a 1949 1st generation vulpix. Enj...</td>\n",
              "      <td>41.0</td>\n",
              "      <td>111.0</td>\n",
              "      <td>en</td>\n",
              "    </tr>\n",
              "  </tbody>\n",
              "</table>\n",
              "</div>"
            ],
            "text/plain": [
              "             tweet_id                  timestamp  \\\n",
              "0  666020888022790149  2015-11-15 22:32:08 +0000   \n",
              "1  666029285002620928  2015-11-15 23:05:30 +0000   \n",
              "2  666033412701032449  2015-11-15 23:21:54 +0000   \n",
              "3  666044226329800704  2015-11-16 00:04:52 +0000   \n",
              "4  666049248165822465  2015-11-16 00:24:50 +0000   \n",
              "\n",
              "                                            source_x  \\\n",
              "0  <a href=\"http://twitter.com/download/iphone\" r...   \n",
              "1  <a href=\"http://twitter.com/download/iphone\" r...   \n",
              "2  <a href=\"http://twitter.com/download/iphone\" r...   \n",
              "3  <a href=\"http://twitter.com/download/iphone\" r...   \n",
              "4  <a href=\"http://twitter.com/download/iphone\" r...   \n",
              "\n",
              "                                                text  \\\n",
              "0  Here we have a Japanese Irish Setter. Lost eye...   \n",
              "1  This is a western brown Mitsubishi terrier. Up...   \n",
              "2  Here is a very happy pup. Big fan of well-main...   \n",
              "3  This is a purebred Piers Morgan. Loves to Netf...   \n",
              "4  Here we have a 1949 1st generation vulpix. Enj...   \n",
              "\n",
              "                                       expanded_urls  rating_numerator  \\\n",
              "0  https://twitter.com/dog_rates/status/666020888...                 8   \n",
              "1  https://twitter.com/dog_rates/status/666029285...                 7   \n",
              "2  https://twitter.com/dog_rates/status/666033412...                 9   \n",
              "3  https://twitter.com/dog_rates/status/666044226...                 6   \n",
              "4  https://twitter.com/dog_rates/status/666049248...                 5   \n",
              "\n",
              "   rating_denominator name doggo floofer pupper puppo  \\\n",
              "0                  10  NaN   NaN     NaN    NaN   NaN   \n",
              "1                  10    a   NaN     NaN    NaN   NaN   \n",
              "2                  10    a   NaN     NaN    NaN   NaN   \n",
              "3                  10    a   NaN     NaN    NaN   NaN   \n",
              "4                  10  NaN   NaN     NaN    NaN   NaN   \n",
              "\n",
              "                                           jpg_url                      p1  \\\n",
              "0  https://pbs.twimg.com/media/CT4udn0WwAA0aMy.jpg  Welsh_springer_spaniel   \n",
              "1  https://pbs.twimg.com/media/CT42GRgUYAA5iDo.jpg                 redbone   \n",
              "2  https://pbs.twimg.com/media/CT4521TWwAEvMyu.jpg         German_shepherd   \n",
              "3  https://pbs.twimg.com/media/CT5Dr8HUEAA-lEu.jpg     Rhodesian_ridgeback   \n",
              "4  https://pbs.twimg.com/media/CT5IQmsXIAAKY4A.jpg      miniature_pinscher   \n",
              "\n",
              "               id_str                                          full_text  \\\n",
              "0  666020888022790149  Here we have a Japanese Irish Setter. Lost eye...   \n",
              "1  666029285002620928  This is a western brown Mitsubishi terrier. Up...   \n",
              "2  666033412701032449  Here is a very happy pup. Big fan of well-main...   \n",
              "3  666044226329800704  This is a purebred Piers Morgan. Loves to Netf...   \n",
              "4  666049248165822465  Here we have a 1949 1st generation vulpix. Enj...   \n",
              "\n",
              "   retweet_count  favorite_count lang  \n",
              "0          532.0          2535.0   en  \n",
              "1           48.0           132.0   en  \n",
              "2           47.0           128.0   en  \n",
              "3          147.0           311.0   en  \n",
              "4           41.0           111.0   en  "
            ]
          },
          "execution_count": 390,
          "metadata": {},
          "output_type": "execute_result"
        }
      ],
      "source": [
        "master_df.head()"
      ]
    },
    {
      "cell_type": "markdown",
      "metadata": {
        "id": "4Cr0CyfGdqpI"
      },
      "source": [
        "### Issue #5: Duplicate columns"
      ]
    },
    {
      "cell_type": "markdown",
      "metadata": {
        "id": "bayAHlS0dqpI"
      },
      "source": [
        "#### Define: duplicated columns around the dataset (before merging both datasets there were duplicate columns in one dataset)"
      ]
    },
    {
      "cell_type": "markdown",
      "metadata": {
        "id": "Mu95SADGdqpI"
      },
      "source": [
        "#### Code"
      ]
    },
    {
      "cell_type": "code",
      "execution_count": 391,
      "metadata": {
        "id": "gAL4J5prdqpI"
      },
      "outputs": [],
      "source": [
        "master_df = master_df.drop(['id_str', 'full_text'], axis=1)"
      ]
    },
    {
      "cell_type": "markdown",
      "metadata": {
        "id": "Lme9FbK9dqpI"
      },
      "source": [
        "#### Test"
      ]
    },
    {
      "cell_type": "code",
      "execution_count": 392,
      "metadata": {
        "colab": {
          "base_uri": "https://localhost:8080/",
          "height": 0
        },
        "id": "G02z7XAOdqpJ",
        "outputId": "11c893da-06d5-4fe8-9049-c055d2e39ece"
      },
      "outputs": [
        {
          "data": {
            "text/html": [
              "<div>\n",
              "<style scoped>\n",
              "    .dataframe tbody tr th:only-of-type {\n",
              "        vertical-align: middle;\n",
              "    }\n",
              "\n",
              "    .dataframe tbody tr th {\n",
              "        vertical-align: top;\n",
              "    }\n",
              "\n",
              "    .dataframe thead th {\n",
              "        text-align: right;\n",
              "    }\n",
              "</style>\n",
              "<table border=\"1\" class=\"dataframe\">\n",
              "  <thead>\n",
              "    <tr style=\"text-align: right;\">\n",
              "      <th></th>\n",
              "      <th>tweet_id</th>\n",
              "      <th>timestamp</th>\n",
              "      <th>source_x</th>\n",
              "      <th>text</th>\n",
              "      <th>expanded_urls</th>\n",
              "      <th>rating_numerator</th>\n",
              "      <th>rating_denominator</th>\n",
              "      <th>name</th>\n",
              "      <th>doggo</th>\n",
              "      <th>floofer</th>\n",
              "      <th>pupper</th>\n",
              "      <th>puppo</th>\n",
              "      <th>jpg_url</th>\n",
              "      <th>p1</th>\n",
              "      <th>retweet_count</th>\n",
              "      <th>favorite_count</th>\n",
              "      <th>lang</th>\n",
              "    </tr>\n",
              "  </thead>\n",
              "  <tbody>\n",
              "    <tr>\n",
              "      <th>0</th>\n",
              "      <td>666020888022790149</td>\n",
              "      <td>2015-11-15 22:32:08 +0000</td>\n",
              "      <td>&lt;a href=\"http://twitter.com/download/iphone\" r...</td>\n",
              "      <td>Here we have a Japanese Irish Setter. Lost eye...</td>\n",
              "      <td>https://twitter.com/dog_rates/status/666020888...</td>\n",
              "      <td>8</td>\n",
              "      <td>10</td>\n",
              "      <td>NaN</td>\n",
              "      <td>NaN</td>\n",
              "      <td>NaN</td>\n",
              "      <td>NaN</td>\n",
              "      <td>NaN</td>\n",
              "      <td>https://pbs.twimg.com/media/CT4udn0WwAA0aMy.jpg</td>\n",
              "      <td>Welsh_springer_spaniel</td>\n",
              "      <td>532.0</td>\n",
              "      <td>2535.0</td>\n",
              "      <td>en</td>\n",
              "    </tr>\n",
              "    <tr>\n",
              "      <th>1</th>\n",
              "      <td>666029285002620928</td>\n",
              "      <td>2015-11-15 23:05:30 +0000</td>\n",
              "      <td>&lt;a href=\"http://twitter.com/download/iphone\" r...</td>\n",
              "      <td>This is a western brown Mitsubishi terrier. Up...</td>\n",
              "      <td>https://twitter.com/dog_rates/status/666029285...</td>\n",
              "      <td>7</td>\n",
              "      <td>10</td>\n",
              "      <td>a</td>\n",
              "      <td>NaN</td>\n",
              "      <td>NaN</td>\n",
              "      <td>NaN</td>\n",
              "      <td>NaN</td>\n",
              "      <td>https://pbs.twimg.com/media/CT42GRgUYAA5iDo.jpg</td>\n",
              "      <td>redbone</td>\n",
              "      <td>48.0</td>\n",
              "      <td>132.0</td>\n",
              "      <td>en</td>\n",
              "    </tr>\n",
              "    <tr>\n",
              "      <th>2</th>\n",
              "      <td>666033412701032449</td>\n",
              "      <td>2015-11-15 23:21:54 +0000</td>\n",
              "      <td>&lt;a href=\"http://twitter.com/download/iphone\" r...</td>\n",
              "      <td>Here is a very happy pup. Big fan of well-main...</td>\n",
              "      <td>https://twitter.com/dog_rates/status/666033412...</td>\n",
              "      <td>9</td>\n",
              "      <td>10</td>\n",
              "      <td>a</td>\n",
              "      <td>NaN</td>\n",
              "      <td>NaN</td>\n",
              "      <td>NaN</td>\n",
              "      <td>NaN</td>\n",
              "      <td>https://pbs.twimg.com/media/CT4521TWwAEvMyu.jpg</td>\n",
              "      <td>German_shepherd</td>\n",
              "      <td>47.0</td>\n",
              "      <td>128.0</td>\n",
              "      <td>en</td>\n",
              "    </tr>\n",
              "    <tr>\n",
              "      <th>3</th>\n",
              "      <td>666044226329800704</td>\n",
              "      <td>2015-11-16 00:04:52 +0000</td>\n",
              "      <td>&lt;a href=\"http://twitter.com/download/iphone\" r...</td>\n",
              "      <td>This is a purebred Piers Morgan. Loves to Netf...</td>\n",
              "      <td>https://twitter.com/dog_rates/status/666044226...</td>\n",
              "      <td>6</td>\n",
              "      <td>10</td>\n",
              "      <td>a</td>\n",
              "      <td>NaN</td>\n",
              "      <td>NaN</td>\n",
              "      <td>NaN</td>\n",
              "      <td>NaN</td>\n",
              "      <td>https://pbs.twimg.com/media/CT5Dr8HUEAA-lEu.jpg</td>\n",
              "      <td>Rhodesian_ridgeback</td>\n",
              "      <td>147.0</td>\n",
              "      <td>311.0</td>\n",
              "      <td>en</td>\n",
              "    </tr>\n",
              "    <tr>\n",
              "      <th>4</th>\n",
              "      <td>666049248165822465</td>\n",
              "      <td>2015-11-16 00:24:50 +0000</td>\n",
              "      <td>&lt;a href=\"http://twitter.com/download/iphone\" r...</td>\n",
              "      <td>Here we have a 1949 1st generation vulpix. Enj...</td>\n",
              "      <td>https://twitter.com/dog_rates/status/666049248...</td>\n",
              "      <td>5</td>\n",
              "      <td>10</td>\n",
              "      <td>NaN</td>\n",
              "      <td>NaN</td>\n",
              "      <td>NaN</td>\n",
              "      <td>NaN</td>\n",
              "      <td>NaN</td>\n",
              "      <td>https://pbs.twimg.com/media/CT5IQmsXIAAKY4A.jpg</td>\n",
              "      <td>miniature_pinscher</td>\n",
              "      <td>41.0</td>\n",
              "      <td>111.0</td>\n",
              "      <td>en</td>\n",
              "    </tr>\n",
              "  </tbody>\n",
              "</table>\n",
              "</div>"
            ],
            "text/plain": [
              "             tweet_id                  timestamp  \\\n",
              "0  666020888022790149  2015-11-15 22:32:08 +0000   \n",
              "1  666029285002620928  2015-11-15 23:05:30 +0000   \n",
              "2  666033412701032449  2015-11-15 23:21:54 +0000   \n",
              "3  666044226329800704  2015-11-16 00:04:52 +0000   \n",
              "4  666049248165822465  2015-11-16 00:24:50 +0000   \n",
              "\n",
              "                                            source_x  \\\n",
              "0  <a href=\"http://twitter.com/download/iphone\" r...   \n",
              "1  <a href=\"http://twitter.com/download/iphone\" r...   \n",
              "2  <a href=\"http://twitter.com/download/iphone\" r...   \n",
              "3  <a href=\"http://twitter.com/download/iphone\" r...   \n",
              "4  <a href=\"http://twitter.com/download/iphone\" r...   \n",
              "\n",
              "                                                text  \\\n",
              "0  Here we have a Japanese Irish Setter. Lost eye...   \n",
              "1  This is a western brown Mitsubishi terrier. Up...   \n",
              "2  Here is a very happy pup. Big fan of well-main...   \n",
              "3  This is a purebred Piers Morgan. Loves to Netf...   \n",
              "4  Here we have a 1949 1st generation vulpix. Enj...   \n",
              "\n",
              "                                       expanded_urls  rating_numerator  \\\n",
              "0  https://twitter.com/dog_rates/status/666020888...                 8   \n",
              "1  https://twitter.com/dog_rates/status/666029285...                 7   \n",
              "2  https://twitter.com/dog_rates/status/666033412...                 9   \n",
              "3  https://twitter.com/dog_rates/status/666044226...                 6   \n",
              "4  https://twitter.com/dog_rates/status/666049248...                 5   \n",
              "\n",
              "   rating_denominator name doggo floofer pupper puppo  \\\n",
              "0                  10  NaN   NaN     NaN    NaN   NaN   \n",
              "1                  10    a   NaN     NaN    NaN   NaN   \n",
              "2                  10    a   NaN     NaN    NaN   NaN   \n",
              "3                  10    a   NaN     NaN    NaN   NaN   \n",
              "4                  10  NaN   NaN     NaN    NaN   NaN   \n",
              "\n",
              "                                           jpg_url                      p1  \\\n",
              "0  https://pbs.twimg.com/media/CT4udn0WwAA0aMy.jpg  Welsh_springer_spaniel   \n",
              "1  https://pbs.twimg.com/media/CT42GRgUYAA5iDo.jpg                 redbone   \n",
              "2  https://pbs.twimg.com/media/CT4521TWwAEvMyu.jpg         German_shepherd   \n",
              "3  https://pbs.twimg.com/media/CT5Dr8HUEAA-lEu.jpg     Rhodesian_ridgeback   \n",
              "4  https://pbs.twimg.com/media/CT5IQmsXIAAKY4A.jpg      miniature_pinscher   \n",
              "\n",
              "   retweet_count  favorite_count lang  \n",
              "0          532.0          2535.0   en  \n",
              "1           48.0           132.0   en  \n",
              "2           47.0           128.0   en  \n",
              "3          147.0           311.0   en  \n",
              "4           41.0           111.0   en  "
            ]
          },
          "execution_count": 392,
          "metadata": {},
          "output_type": "execute_result"
        }
      ],
      "source": [
        "master_df.head()"
      ]
    },
    {
      "cell_type": "markdown",
      "metadata": {
        "id": "lIgkAdy7dqpJ"
      },
      "source": [
        "### Issue #6: Missing Values"
      ]
    },
    {
      "cell_type": "markdown",
      "metadata": {
        "id": "uuwmn-dFdqpJ"
      },
      "source": [
        "#### Define: Missing Values around the dataset that we are gonna handle"
      ]
    },
    {
      "cell_type": "markdown",
      "metadata": {
        "id": "EAgniWWqdqpK"
      },
      "source": [
        "#### Code"
      ]
    },
    {
      "cell_type": "code",
      "execution_count": 393,
      "metadata": {
        "id": "IuQKiUZ9dqpK"
      },
      "outputs": [],
      "source": [
        "#I didn't use inplace because there was an error out of my knowledge\n",
        "master_df[master_df.columns[14:16]] = master_df[master_df.columns[14:16]].fillna(0)\n",
        "master_df[['expanded_urls', 'name', 'jpg_url', 'p1', 'lang']] = master_df[['expanded_urls', 'name', 'jpg_url', 'p1', 'lang']].fillna('unknown')\n",
        "master_df[master_df.columns[8:12]] = master_df[master_df.columns[8:12]].fillna('none')"
      ]
    },
    {
      "cell_type": "markdown",
      "metadata": {
        "id": "KESX4WrtdqpK"
      },
      "source": [
        "#### Test"
      ]
    },
    {
      "cell_type": "code",
      "execution_count": 394,
      "metadata": {
        "colab": {
          "base_uri": "https://localhost:8080/"
        },
        "id": "7cs8FX9BdqpK",
        "outputId": "0ab535ba-ad18-4c63-ff95-6a53287fd921"
      },
      "outputs": [
        {
          "name": "stdout",
          "output_type": "stream",
          "text": [
            "<class 'pandas.core.frame.DataFrame'>\n",
            "Index: 2097 entries, 0 to 2355\n",
            "Data columns (total 17 columns):\n",
            " #   Column              Non-Null Count  Dtype  \n",
            "---  ------              --------------  -----  \n",
            " 0   tweet_id            2097 non-null   int64  \n",
            " 1   timestamp           2097 non-null   object \n",
            " 2   source_x            2097 non-null   object \n",
            " 3   text                2097 non-null   object \n",
            " 4   expanded_urls       2097 non-null   object \n",
            " 5   rating_numerator    2097 non-null   int64  \n",
            " 6   rating_denominator  2097 non-null   int64  \n",
            " 7   name                2097 non-null   object \n",
            " 8   doggo               2097 non-null   object \n",
            " 9   floofer             2097 non-null   object \n",
            " 10  pupper              2097 non-null   object \n",
            " 11  puppo               2097 non-null   object \n",
            " 12  jpg_url             2097 non-null   object \n",
            " 13  p1                  2097 non-null   object \n",
            " 14  retweet_count       2097 non-null   float64\n",
            " 15  favorite_count      2097 non-null   float64\n",
            " 16  lang                2097 non-null   object \n",
            "dtypes: float64(2), int64(3), object(12)\n",
            "memory usage: 294.9+ KB\n"
          ]
        }
      ],
      "source": [
        "master_df.info()"
      ]
    },
    {
      "cell_type": "markdown",
      "metadata": {
        "id": "wTTzk9t2dqpK"
      },
      "source": [
        "### Issue #7: Wrong Data Types"
      ]
    },
    {
      "cell_type": "markdown",
      "metadata": {
        "id": "HNTaDEhYdqpK"
      },
      "source": [
        "#### Define: Wrong data types around the dataset"
      ]
    },
    {
      "cell_type": "markdown",
      "metadata": {
        "id": "AjyyQ0f3dqpL"
      },
      "source": [
        "#### Code"
      ]
    },
    {
      "cell_type": "code",
      "execution_count": 395,
      "metadata": {
        "id": "8o-ZAwAAdqpL"
      },
      "outputs": [],
      "source": [
        "master_df['timestamp'] = pd.to_datetime(master_df['timestamp'])\n",
        "master_df['tweet_id'] = master_df['tweet_id'].astype(str)\n",
        "master_df['retweet_count'] = master_df['retweet_count'].astype(int)\n",
        "master_df['favorite_count'] = master_df['favorite_count'].astype(int)"
      ]
    },
    {
      "cell_type": "markdown",
      "metadata": {
        "id": "eRBnXrvsdqpL"
      },
      "source": [
        "#### Test"
      ]
    },
    {
      "cell_type": "code",
      "execution_count": 396,
      "metadata": {
        "colab": {
          "base_uri": "https://localhost:8080/"
        },
        "id": "M66LWAZ8dqpL",
        "outputId": "e53b8fef-d022-4d91-80f6-6209a5b8d590"
      },
      "outputs": [
        {
          "name": "stdout",
          "output_type": "stream",
          "text": [
            "<class 'pandas.core.frame.DataFrame'>\n",
            "Index: 2097 entries, 0 to 2355\n",
            "Data columns (total 17 columns):\n",
            " #   Column              Non-Null Count  Dtype              \n",
            "---  ------              --------------  -----              \n",
            " 0   tweet_id            2097 non-null   object             \n",
            " 1   timestamp           2097 non-null   datetime64[ns, UTC]\n",
            " 2   source_x            2097 non-null   object             \n",
            " 3   text                2097 non-null   object             \n",
            " 4   expanded_urls       2097 non-null   object             \n",
            " 5   rating_numerator    2097 non-null   int64              \n",
            " 6   rating_denominator  2097 non-null   int64              \n",
            " 7   name                2097 non-null   object             \n",
            " 8   doggo               2097 non-null   object             \n",
            " 9   floofer             2097 non-null   object             \n",
            " 10  pupper              2097 non-null   object             \n",
            " 11  puppo               2097 non-null   object             \n",
            " 12  jpg_url             2097 non-null   object             \n",
            " 13  p1                  2097 non-null   object             \n",
            " 14  retweet_count       2097 non-null   int32              \n",
            " 15  favorite_count      2097 non-null   int32              \n",
            " 16  lang                2097 non-null   object             \n",
            "dtypes: datetime64[ns, UTC](1), int32(2), int64(2), object(12)\n",
            "memory usage: 278.5+ KB\n"
          ]
        }
      ],
      "source": [
        "master_df.info()"
      ]
    },
    {
      "cell_type": "markdown",
      "metadata": {
        "id": "7WMzPXN4dqpL"
      },
      "source": [
        "### Issue #8: HTML Tags"
      ]
    },
    {
      "cell_type": "markdown",
      "metadata": {
        "id": "b4iHb4kndqpL"
      },
      "source": [
        "#### Define: HTML tags in source column"
      ]
    },
    {
      "cell_type": "markdown",
      "metadata": {
        "id": "XiY5pdjQdqpM"
      },
      "source": [
        "#### Code"
      ]
    },
    {
      "cell_type": "code",
      "execution_count": 397,
      "metadata": {
        "id": "eXpDMej1dqpM"
      },
      "outputs": [],
      "source": [
        "#Function to remove HTML tags\n",
        "def remove_html_tags(source):\n",
        "    cleaning = re.compile('<.*?>')\n",
        "    return re.sub(cleaning, '', source)\n",
        "\n",
        "#Applying the function to the source column\n",
        "master_df['source_x'] = master_df['source_x'].apply(remove_html_tags)"
      ]
    },
    {
      "cell_type": "markdown",
      "metadata": {
        "id": "Ak_MLXtwdqpM"
      },
      "source": [
        "#### Test"
      ]
    },
    {
      "cell_type": "code",
      "execution_count": 398,
      "metadata": {
        "colab": {
          "base_uri": "https://localhost:8080/",
          "height": 0
        },
        "id": "dVQGY7K2dqpN",
        "outputId": "957eedd5-b2d7-4c31-ce55-da0b7744b5d9"
      },
      "outputs": [
        {
          "data": {
            "text/html": [
              "<div>\n",
              "<style scoped>\n",
              "    .dataframe tbody tr th:only-of-type {\n",
              "        vertical-align: middle;\n",
              "    }\n",
              "\n",
              "    .dataframe tbody tr th {\n",
              "        vertical-align: top;\n",
              "    }\n",
              "\n",
              "    .dataframe thead th {\n",
              "        text-align: right;\n",
              "    }\n",
              "</style>\n",
              "<table border=\"1\" class=\"dataframe\">\n",
              "  <thead>\n",
              "    <tr style=\"text-align: right;\">\n",
              "      <th></th>\n",
              "      <th>tweet_id</th>\n",
              "      <th>timestamp</th>\n",
              "      <th>source_x</th>\n",
              "      <th>text</th>\n",
              "      <th>expanded_urls</th>\n",
              "      <th>rating_numerator</th>\n",
              "      <th>rating_denominator</th>\n",
              "      <th>name</th>\n",
              "      <th>doggo</th>\n",
              "      <th>floofer</th>\n",
              "      <th>pupper</th>\n",
              "      <th>puppo</th>\n",
              "      <th>jpg_url</th>\n",
              "      <th>p1</th>\n",
              "      <th>retweet_count</th>\n",
              "      <th>favorite_count</th>\n",
              "      <th>lang</th>\n",
              "    </tr>\n",
              "  </thead>\n",
              "  <tbody>\n",
              "    <tr>\n",
              "      <th>0</th>\n",
              "      <td>666020888022790149</td>\n",
              "      <td>2015-11-15 22:32:08+00:00</td>\n",
              "      <td>Twitter for iPhone</td>\n",
              "      <td>Here we have a Japanese Irish Setter. Lost eye...</td>\n",
              "      <td>https://twitter.com/dog_rates/status/666020888...</td>\n",
              "      <td>8</td>\n",
              "      <td>10</td>\n",
              "      <td>unknown</td>\n",
              "      <td>none</td>\n",
              "      <td>none</td>\n",
              "      <td>none</td>\n",
              "      <td>none</td>\n",
              "      <td>https://pbs.twimg.com/media/CT4udn0WwAA0aMy.jpg</td>\n",
              "      <td>Welsh_springer_spaniel</td>\n",
              "      <td>532</td>\n",
              "      <td>2535</td>\n",
              "      <td>en</td>\n",
              "    </tr>\n",
              "    <tr>\n",
              "      <th>1</th>\n",
              "      <td>666029285002620928</td>\n",
              "      <td>2015-11-15 23:05:30+00:00</td>\n",
              "      <td>Twitter for iPhone</td>\n",
              "      <td>This is a western brown Mitsubishi terrier. Up...</td>\n",
              "      <td>https://twitter.com/dog_rates/status/666029285...</td>\n",
              "      <td>7</td>\n",
              "      <td>10</td>\n",
              "      <td>a</td>\n",
              "      <td>none</td>\n",
              "      <td>none</td>\n",
              "      <td>none</td>\n",
              "      <td>none</td>\n",
              "      <td>https://pbs.twimg.com/media/CT42GRgUYAA5iDo.jpg</td>\n",
              "      <td>redbone</td>\n",
              "      <td>48</td>\n",
              "      <td>132</td>\n",
              "      <td>en</td>\n",
              "    </tr>\n",
              "    <tr>\n",
              "      <th>2</th>\n",
              "      <td>666033412701032449</td>\n",
              "      <td>2015-11-15 23:21:54+00:00</td>\n",
              "      <td>Twitter for iPhone</td>\n",
              "      <td>Here is a very happy pup. Big fan of well-main...</td>\n",
              "      <td>https://twitter.com/dog_rates/status/666033412...</td>\n",
              "      <td>9</td>\n",
              "      <td>10</td>\n",
              "      <td>a</td>\n",
              "      <td>none</td>\n",
              "      <td>none</td>\n",
              "      <td>none</td>\n",
              "      <td>none</td>\n",
              "      <td>https://pbs.twimg.com/media/CT4521TWwAEvMyu.jpg</td>\n",
              "      <td>German_shepherd</td>\n",
              "      <td>47</td>\n",
              "      <td>128</td>\n",
              "      <td>en</td>\n",
              "    </tr>\n",
              "    <tr>\n",
              "      <th>3</th>\n",
              "      <td>666044226329800704</td>\n",
              "      <td>2015-11-16 00:04:52+00:00</td>\n",
              "      <td>Twitter for iPhone</td>\n",
              "      <td>This is a purebred Piers Morgan. Loves to Netf...</td>\n",
              "      <td>https://twitter.com/dog_rates/status/666044226...</td>\n",
              "      <td>6</td>\n",
              "      <td>10</td>\n",
              "      <td>a</td>\n",
              "      <td>none</td>\n",
              "      <td>none</td>\n",
              "      <td>none</td>\n",
              "      <td>none</td>\n",
              "      <td>https://pbs.twimg.com/media/CT5Dr8HUEAA-lEu.jpg</td>\n",
              "      <td>Rhodesian_ridgeback</td>\n",
              "      <td>147</td>\n",
              "      <td>311</td>\n",
              "      <td>en</td>\n",
              "    </tr>\n",
              "    <tr>\n",
              "      <th>4</th>\n",
              "      <td>666049248165822465</td>\n",
              "      <td>2015-11-16 00:24:50+00:00</td>\n",
              "      <td>Twitter for iPhone</td>\n",
              "      <td>Here we have a 1949 1st generation vulpix. Enj...</td>\n",
              "      <td>https://twitter.com/dog_rates/status/666049248...</td>\n",
              "      <td>5</td>\n",
              "      <td>10</td>\n",
              "      <td>unknown</td>\n",
              "      <td>none</td>\n",
              "      <td>none</td>\n",
              "      <td>none</td>\n",
              "      <td>none</td>\n",
              "      <td>https://pbs.twimg.com/media/CT5IQmsXIAAKY4A.jpg</td>\n",
              "      <td>miniature_pinscher</td>\n",
              "      <td>41</td>\n",
              "      <td>111</td>\n",
              "      <td>en</td>\n",
              "    </tr>\n",
              "  </tbody>\n",
              "</table>\n",
              "</div>"
            ],
            "text/plain": [
              "             tweet_id                 timestamp            source_x  \\\n",
              "0  666020888022790149 2015-11-15 22:32:08+00:00  Twitter for iPhone   \n",
              "1  666029285002620928 2015-11-15 23:05:30+00:00  Twitter for iPhone   \n",
              "2  666033412701032449 2015-11-15 23:21:54+00:00  Twitter for iPhone   \n",
              "3  666044226329800704 2015-11-16 00:04:52+00:00  Twitter for iPhone   \n",
              "4  666049248165822465 2015-11-16 00:24:50+00:00  Twitter for iPhone   \n",
              "\n",
              "                                                text  \\\n",
              "0  Here we have a Japanese Irish Setter. Lost eye...   \n",
              "1  This is a western brown Mitsubishi terrier. Up...   \n",
              "2  Here is a very happy pup. Big fan of well-main...   \n",
              "3  This is a purebred Piers Morgan. Loves to Netf...   \n",
              "4  Here we have a 1949 1st generation vulpix. Enj...   \n",
              "\n",
              "                                       expanded_urls  rating_numerator  \\\n",
              "0  https://twitter.com/dog_rates/status/666020888...                 8   \n",
              "1  https://twitter.com/dog_rates/status/666029285...                 7   \n",
              "2  https://twitter.com/dog_rates/status/666033412...                 9   \n",
              "3  https://twitter.com/dog_rates/status/666044226...                 6   \n",
              "4  https://twitter.com/dog_rates/status/666049248...                 5   \n",
              "\n",
              "   rating_denominator     name doggo floofer pupper puppo  \\\n",
              "0                  10  unknown  none    none   none  none   \n",
              "1                  10        a  none    none   none  none   \n",
              "2                  10        a  none    none   none  none   \n",
              "3                  10        a  none    none   none  none   \n",
              "4                  10  unknown  none    none   none  none   \n",
              "\n",
              "                                           jpg_url                      p1  \\\n",
              "0  https://pbs.twimg.com/media/CT4udn0WwAA0aMy.jpg  Welsh_springer_spaniel   \n",
              "1  https://pbs.twimg.com/media/CT42GRgUYAA5iDo.jpg                 redbone   \n",
              "2  https://pbs.twimg.com/media/CT4521TWwAEvMyu.jpg         German_shepherd   \n",
              "3  https://pbs.twimg.com/media/CT5Dr8HUEAA-lEu.jpg     Rhodesian_ridgeback   \n",
              "4  https://pbs.twimg.com/media/CT5IQmsXIAAKY4A.jpg      miniature_pinscher   \n",
              "\n",
              "   retweet_count  favorite_count lang  \n",
              "0            532            2535   en  \n",
              "1             48             132   en  \n",
              "2             47             128   en  \n",
              "3            147             311   en  \n",
              "4             41             111   en  "
            ]
          },
          "execution_count": 398,
          "metadata": {},
          "output_type": "execute_result"
        }
      ],
      "source": [
        "master_df.head()"
      ]
    },
    {
      "cell_type": "markdown",
      "metadata": {
        "id": "p-TWD4JAdqpN"
      },
      "source": [
        "### Issue #9: Invalid Dog Names"
      ]
    },
    {
      "cell_type": "markdown",
      "metadata": {
        "id": "10iHgtYLdqpN"
      },
      "source": [
        "#### Define: Dog names that are probably not true"
      ]
    },
    {
      "cell_type": "markdown",
      "metadata": {
        "id": "ADNUPIQydqpN"
      },
      "source": [
        "#### Code"
      ]
    },
    {
      "cell_type": "code",
      "execution_count": 399,
      "metadata": {
        "id": "ouVh8nkkdqpN"
      },
      "outputs": [],
      "source": [
        "#Here I used a variable that i created in assessing phase, this variable contains all lowercase names\n",
        "#I used lambda for good results instead of using a for loop\n",
        "master_df['name'] = master_df['name'].apply(lambda x: 'unknown' if x in invalid_names.values else x)"
      ]
    },
    {
      "cell_type": "markdown",
      "metadata": {
        "id": "ZMTEyja4dqpN"
      },
      "source": [
        "#### Test"
      ]
    },
    {
      "cell_type": "code",
      "execution_count": 400,
      "metadata": {
        "colab": {
          "base_uri": "https://localhost:8080/",
          "height": 0
        },
        "id": "agBwZwhadqpO",
        "outputId": "6f7c496f-afe5-4920-fa9b-d7fe40e1c6b5"
      },
      "outputs": [
        {
          "data": {
            "text/plain": [
              "name\n",
              "unknown    707\n",
              "Charlie     11\n",
              "Lucy        11\n",
              "Oliver      10\n",
              "Cooper      10\n",
              "          ... \n",
              "Trip         1\n",
              "Ferg         1\n",
              "Lucky        1\n",
              "Ricky        1\n",
              "Tilly        1\n",
              "Name: count, Length: 930, dtype: int64"
            ]
          },
          "execution_count": 400,
          "metadata": {},
          "output_type": "execute_result"
        }
      ],
      "source": [
        "master_df['name'].value_counts()"
      ]
    },
    {
      "cell_type": "markdown",
      "metadata": {
        "id": "-wRdWnyodqpO"
      },
      "source": [
        "### Issue #10: Inconsistent Rating Denominator"
      ]
    },
    {
      "cell_type": "markdown",
      "metadata": {
        "id": "4NV5Imx3dqpO"
      },
      "source": [
        "#### Define: Rating denominator values are not equal with makes the data dirty"
      ]
    },
    {
      "cell_type": "markdown",
      "metadata": {
        "id": "zlFjswjqdqpO"
      },
      "source": [
        "#### Code"
      ]
    },
    {
      "cell_type": "code",
      "execution_count": 401,
      "metadata": {
        "id": "7toLQKpbdqpO"
      },
      "outputs": [],
      "source": [
        "#Filtering the DataFrame to keep rows where rating_denominator equal 10\n",
        "master_df = master_df[master_df['rating_denominator'] == 10]"
      ]
    },
    {
      "cell_type": "markdown",
      "metadata": {
        "id": "i-YukgMvdqpP"
      },
      "source": [
        "#### Test"
      ]
    },
    {
      "cell_type": "code",
      "execution_count": 402,
      "metadata": {
        "colab": {
          "base_uri": "https://localhost:8080/",
          "height": 0
        },
        "id": "CUcFoCYCfkl0",
        "outputId": "443dbff3-f085-4793-e048-523b0ac14a0c"
      },
      "outputs": [
        {
          "data": {
            "text/plain": [
              "rating_denominator\n",
              "10    2080\n",
              "Name: count, dtype: int64"
            ]
          },
          "execution_count": 402,
          "metadata": {},
          "output_type": "execute_result"
        }
      ],
      "source": [
        "master_df['rating_denominator'].value_counts()"
      ]
    },
    {
      "cell_type": "markdown",
      "metadata": {
        "id": "5GOHiWyJfuZD"
      },
      "source": [
        "### Issue #11: Outliers Ratings"
      ]
    },
    {
      "cell_type": "markdown",
      "metadata": {
        "id": "s2dYEGwYfzZz"
      },
      "source": [
        "#### Define: Ratings nums are very big which is bad for statistics"
      ]
    },
    {
      "cell_type": "markdown",
      "metadata": {
        "id": "oji8Ij8Hf2vr"
      },
      "source": [
        "#### Code"
      ]
    },
    {
      "cell_type": "code",
      "execution_count": 403,
      "metadata": {
        "id": "MSkSbdxUf6iD"
      },
      "outputs": [],
      "source": [
        "#Flitering the dataset to delete outlier rows\n",
        "master_df = master_df[master_df['rating_numerator'] <= 15]\n"
      ]
    },
    {
      "cell_type": "markdown",
      "metadata": {
        "id": "NfNun-f6f63M"
      },
      "source": [
        "#### Test"
      ]
    },
    {
      "cell_type": "code",
      "execution_count": 404,
      "metadata": {
        "colab": {
          "base_uri": "https://localhost:8080/",
          "height": 0
        },
        "id": "J9iqRmIaf8vM",
        "outputId": "6415c63f-30ea-44bb-ec59-8b7e971b487e"
      },
      "outputs": [
        {
          "data": {
            "text/plain": [
              "rating_numerator\n",
              "12    486\n",
              "10    436\n",
              "11    413\n",
              "13    287\n",
              "9     152\n",
              "8      98\n",
              "7      51\n",
              "14     38\n",
              "5      34\n",
              "6      32\n",
              "3      19\n",
              "4      15\n",
              "2       9\n",
              "1       4\n",
              "0       1\n",
              "Name: count, dtype: int64"
            ]
          },
          "execution_count": 404,
          "metadata": {},
          "output_type": "execute_result"
        }
      ],
      "source": [
        "master_df['rating_numerator'].value_counts()"
      ]
    },
    {
      "cell_type": "markdown",
      "metadata": {
        "id": "_GlZ5OA7hpze"
      },
      "source": [
        "### Issue #12: Unwanted Languages"
      ]
    },
    {
      "cell_type": "markdown",
      "metadata": {
        "id": "L8QsHbP9hviE"
      },
      "source": [
        "#### Define: Tweets with unwanted languages, we only need English ones"
      ]
    },
    {
      "cell_type": "markdown",
      "metadata": {
        "id": "SnZ_cO_sh0aV"
      },
      "source": [
        "#### Code"
      ]
    },
    {
      "cell_type": "code",
      "execution_count": 405,
      "metadata": {
        "id": "bShxPltDhzyE"
      },
      "outputs": [],
      "source": [
        "#Filtering the DataFrame to keep rows where lang is english\n",
        "master_df = master_df[master_df['lang'] == 'en']\n"
      ]
    },
    {
      "cell_type": "markdown",
      "metadata": {
        "id": "fc6Ac8Rkh2E8"
      },
      "source": [
        "#### Test"
      ]
    },
    {
      "cell_type": "code",
      "execution_count": 406,
      "metadata": {
        "colab": {
          "base_uri": "https://localhost:8080/",
          "height": 147
        },
        "id": "0j1VyeWmh3x8",
        "outputId": "36debbda-ee64-4cc3-f8f5-da637d1d89ef"
      },
      "outputs": [
        {
          "data": {
            "text/plain": [
              "lang\n",
              "en    2067\n",
              "Name: count, dtype: int64"
            ]
          },
          "execution_count": 406,
          "metadata": {},
          "output_type": "execute_result"
        }
      ],
      "source": [
        "master_df['lang'].value_counts()"
      ]
    },
    {
      "cell_type": "markdown",
      "metadata": {
        "id": "eukuvjQtqn6F"
      },
      "source": [
        "### Issue #13: Untidy Dog Stages"
      ]
    },
    {
      "cell_type": "markdown",
      "metadata": {
        "id": "9C64sG_6qn6U"
      },
      "source": [
        "#### Define: Dog stages should be united under 1 column"
      ]
    },
    {
      "cell_type": "markdown",
      "metadata": {
        "id": "khPGB6lkqn6U"
      },
      "source": [
        "#### Code"
      ]
    },
    {
      "cell_type": "code",
      "execution_count": 407,
      "metadata": {
        "id": "UsYioqIsqn6V"
      },
      "outputs": [],
      "source": [
        "#Creating a conditional function that checks on 4 stages\n",
        "def dog_stages(row):\n",
        "  if row['doggo'] == 'doggo':\n",
        "    return 'doggo'\n",
        "  elif row['floofer'] == 'floofer':\n",
        "    return 'floofer'\n",
        "  elif row['pupper'] == 'pupper':\n",
        "    return 'pupper'\n",
        "  elif row['puppo'] == 'puppo':\n",
        "    return 'puppo'\n",
        "  else:\n",
        "    return 'None'\n",
        "\n",
        "#Creating a new column called dog_stage\n",
        "master_df['dog_stage'] = master_df.apply(dog_stages, axis=1)\n",
        "\n",
        "#Dropping the original dog stage columns\n",
        "master_df = master_df.drop(['doggo', 'floofer', 'pupper', 'puppo'], axis=1)\n"
      ]
    },
    {
      "cell_type": "markdown",
      "metadata": {
        "id": "xrMgC97Bqn6V"
      },
      "source": [
        "#### Test"
      ]
    },
    {
      "cell_type": "code",
      "execution_count": 408,
      "metadata": {
        "colab": {
          "base_uri": "https://localhost:8080/",
          "height": 1000
        },
        "id": "LkVkmaFCqn6V",
        "outputId": "5b2188db-9d16-494b-b117-ecaac84bd6e4"
      },
      "outputs": [
        {
          "data": {
            "text/html": [
              "<div>\n",
              "<style scoped>\n",
              "    .dataframe tbody tr th:only-of-type {\n",
              "        vertical-align: middle;\n",
              "    }\n",
              "\n",
              "    .dataframe tbody tr th {\n",
              "        vertical-align: top;\n",
              "    }\n",
              "\n",
              "    .dataframe thead th {\n",
              "        text-align: right;\n",
              "    }\n",
              "</style>\n",
              "<table border=\"1\" class=\"dataframe\">\n",
              "  <thead>\n",
              "    <tr style=\"text-align: right;\">\n",
              "      <th></th>\n",
              "      <th>tweet_id</th>\n",
              "      <th>timestamp</th>\n",
              "      <th>source_x</th>\n",
              "      <th>text</th>\n",
              "      <th>expanded_urls</th>\n",
              "      <th>rating_numerator</th>\n",
              "      <th>rating_denominator</th>\n",
              "      <th>name</th>\n",
              "      <th>jpg_url</th>\n",
              "      <th>p1</th>\n",
              "      <th>retweet_count</th>\n",
              "      <th>favorite_count</th>\n",
              "      <th>lang</th>\n",
              "      <th>dog_stage</th>\n",
              "    </tr>\n",
              "  </thead>\n",
              "  <tbody>\n",
              "    <tr>\n",
              "      <th>773</th>\n",
              "      <td>687109925361856513</td>\n",
              "      <td>2016-01-13 03:12:26+00:00</td>\n",
              "      <td>Twitter for iPhone</td>\n",
              "      <td>This is Baxter. He looks like a fun dog. Prefe...</td>\n",
              "      <td>https://twitter.com/dog_rates/status/687109925...</td>\n",
              "      <td>11</td>\n",
              "      <td>10</td>\n",
              "      <td>Baxter</td>\n",
              "      <td>https://pbs.twimg.com/media/CYka1NTWMAAOclP.jpg</td>\n",
              "      <td>borzoi</td>\n",
              "      <td>2803</td>\n",
              "      <td>6370</td>\n",
              "      <td>en</td>\n",
              "      <td>None</td>\n",
              "    </tr>\n",
              "    <tr>\n",
              "      <th>1685</th>\n",
              "      <td>789986466051088384</td>\n",
              "      <td>2016-10-23 00:27:05+00:00</td>\n",
              "      <td>Twitter for iPhone</td>\n",
              "      <td>This is Happy. He's a bathtub reviewer. Seems ...</td>\n",
              "      <td>https://twitter.com/dog_rates/status/789986466...</td>\n",
              "      <td>12</td>\n",
              "      <td>10</td>\n",
              "      <td>Happy</td>\n",
              "      <td>https://pbs.twimg.com/media/CvaYgDOWgAEfjls.jpg</td>\n",
              "      <td>tub</td>\n",
              "      <td>2704</td>\n",
              "      <td>10369</td>\n",
              "      <td>en</td>\n",
              "      <td>None</td>\n",
              "    </tr>\n",
              "    <tr>\n",
              "      <th>1233</th>\n",
              "      <td>730573383004487680</td>\n",
              "      <td>2016-05-12 01:40:42+00:00</td>\n",
              "      <td>Twitter for iPhone</td>\n",
              "      <td>This is Rooney. He can't comprehend glass. 10/...</td>\n",
              "      <td>https://twitter.com/dog_rates/status/730573383...</td>\n",
              "      <td>10</td>\n",
              "      <td>10</td>\n",
              "      <td>Rooney</td>\n",
              "      <td>https://pbs.twimg.com/media/CiOEnI6WgAAmq4E.jpg</td>\n",
              "      <td>American_Staffordshire_terrier</td>\n",
              "      <td>2435</td>\n",
              "      <td>5407</td>\n",
              "      <td>en</td>\n",
              "      <td>pupper</td>\n",
              "    </tr>\n",
              "    <tr>\n",
              "      <th>1037</th>\n",
              "      <td>706538006853918722</td>\n",
              "      <td>2016-03-06 17:52:42+00:00</td>\n",
              "      <td>Twitter for iPhone</td>\n",
              "      <td>This is Oliver (pronounced \"Ricardo\"). He's a ...</td>\n",
              "      <td>https://twitter.com/dog_rates/status/706538006...</td>\n",
              "      <td>11</td>\n",
              "      <td>10</td>\n",
              "      <td>Oliver</td>\n",
              "      <td>https://pbs.twimg.com/media/Cc4gjxqW4AIoThO.jpg</td>\n",
              "      <td>chow</td>\n",
              "      <td>1580</td>\n",
              "      <td>3778</td>\n",
              "      <td>en</td>\n",
              "      <td>None</td>\n",
              "    </tr>\n",
              "    <tr>\n",
              "      <th>780</th>\n",
              "      <td>687476254459715584</td>\n",
              "      <td>2016-01-14 03:28:06+00:00</td>\n",
              "      <td>Twitter for iPhone</td>\n",
              "      <td>This is Curtis. He's a fluffball. 11/10 would ...</td>\n",
              "      <td>https://twitter.com/dog_rates/status/687476254...</td>\n",
              "      <td>11</td>\n",
              "      <td>10</td>\n",
              "      <td>Curtis</td>\n",
              "      <td>https://pbs.twimg.com/media/CYpoAZTWEAA6vDs.jpg</td>\n",
              "      <td>wood_rabbit</td>\n",
              "      <td>619</td>\n",
              "      <td>2187</td>\n",
              "      <td>en</td>\n",
              "      <td>pupper</td>\n",
              "    </tr>\n",
              "  </tbody>\n",
              "</table>\n",
              "</div>"
            ],
            "text/plain": [
              "                tweet_id                 timestamp            source_x  \\\n",
              "773   687109925361856513 2016-01-13 03:12:26+00:00  Twitter for iPhone   \n",
              "1685  789986466051088384 2016-10-23 00:27:05+00:00  Twitter for iPhone   \n",
              "1233  730573383004487680 2016-05-12 01:40:42+00:00  Twitter for iPhone   \n",
              "1037  706538006853918722 2016-03-06 17:52:42+00:00  Twitter for iPhone   \n",
              "780   687476254459715584 2016-01-14 03:28:06+00:00  Twitter for iPhone   \n",
              "\n",
              "                                                   text  \\\n",
              "773   This is Baxter. He looks like a fun dog. Prefe...   \n",
              "1685  This is Happy. He's a bathtub reviewer. Seems ...   \n",
              "1233  This is Rooney. He can't comprehend glass. 10/...   \n",
              "1037  This is Oliver (pronounced \"Ricardo\"). He's a ...   \n",
              "780   This is Curtis. He's a fluffball. 11/10 would ...   \n",
              "\n",
              "                                          expanded_urls  rating_numerator  \\\n",
              "773   https://twitter.com/dog_rates/status/687109925...                11   \n",
              "1685  https://twitter.com/dog_rates/status/789986466...                12   \n",
              "1233  https://twitter.com/dog_rates/status/730573383...                10   \n",
              "1037  https://twitter.com/dog_rates/status/706538006...                11   \n",
              "780   https://twitter.com/dog_rates/status/687476254...                11   \n",
              "\n",
              "      rating_denominator    name  \\\n",
              "773                   10  Baxter   \n",
              "1685                  10   Happy   \n",
              "1233                  10  Rooney   \n",
              "1037                  10  Oliver   \n",
              "780                   10  Curtis   \n",
              "\n",
              "                                              jpg_url  \\\n",
              "773   https://pbs.twimg.com/media/CYka1NTWMAAOclP.jpg   \n",
              "1685  https://pbs.twimg.com/media/CvaYgDOWgAEfjls.jpg   \n",
              "1233  https://pbs.twimg.com/media/CiOEnI6WgAAmq4E.jpg   \n",
              "1037  https://pbs.twimg.com/media/Cc4gjxqW4AIoThO.jpg   \n",
              "780   https://pbs.twimg.com/media/CYpoAZTWEAA6vDs.jpg   \n",
              "\n",
              "                                  p1  retweet_count  favorite_count lang  \\\n",
              "773                           borzoi           2803            6370   en   \n",
              "1685                             tub           2704           10369   en   \n",
              "1233  American_Staffordshire_terrier           2435            5407   en   \n",
              "1037                            chow           1580            3778   en   \n",
              "780                      wood_rabbit            619            2187   en   \n",
              "\n",
              "     dog_stage  \n",
              "773       None  \n",
              "1685      None  \n",
              "1233    pupper  \n",
              "1037      None  \n",
              "780     pupper  "
            ]
          },
          "execution_count": 408,
          "metadata": {},
          "output_type": "execute_result"
        }
      ],
      "source": [
        "#seeing a sample of data\n",
        "master_df.sample(5)"
      ]
    },
    {
      "cell_type": "markdown",
      "metadata": {
        "id": "vnmIJAMhdqpP"
      },
      "source": [
        "## Storing Data"
      ]
    },
    {
      "cell_type": "code",
      "execution_count": 409,
      "metadata": {},
      "outputs": [],
      "source": [
        "master_df.to_csv('twitter_archive_master.csv')"
      ]
    },
    {
      "cell_type": "markdown",
      "metadata": {
        "id": "MJ2HrQdOdqpP"
      },
      "source": [
        "## Analyzing and Visualizing Data"
      ]
    },
    {
      "cell_type": "code",
      "execution_count": 410,
      "metadata": {
        "colab": {
          "base_uri": "https://localhost:8080/",
          "height": 272
        },
        "id": "8iKT82gpdqpP",
        "outputId": "e08ccfaf-80fe-470e-a811-670c6ab3f0dc"
      },
      "outputs": [
        {
          "data": {
            "text/plain": [
              "dog_stage\n",
              "puppo      12.000000\n",
              "floofer    11.888889\n",
              "doggo      11.771084\n",
              "pupper     10.731818\n",
              "None       10.504042\n",
              "Name: rating_numerator, dtype: float64"
            ]
          },
          "execution_count": 410,
          "metadata": {},
          "output_type": "execute_result"
        }
      ],
      "source": [
        "#Grouping the data by dog stages and calculating the average rating\n",
        "stage_ratings = master_df.groupby('dog_stage')['rating_numerator'].mean().sort_values(ascending=False)\n",
        "stage_ratings"
      ]
    },
    {
      "cell_type": "code",
      "execution_count": 411,
      "metadata": {},
      "outputs": [
        {
          "data": {
            "text/plain": [
              "p1\n",
              "laptop              55098.0\n",
              "limousine           46959.0\n",
              "orange              39467.0\n",
              "Arabian_camel       38300.0\n",
              "Angora              37892.5\n",
              "                     ...   \n",
              "piggy_bank            344.0\n",
              "trombone              323.0\n",
              "hay                   258.0\n",
              "crash_helmet          211.0\n",
              "desktop_computer      108.0\n",
              "Name: favorite_count, Length: 371, dtype: float64"
            ]
          },
          "execution_count": 411,
          "metadata": {},
          "output_type": "execute_result"
        }
      ],
      "source": [
        "#Grouping the data by most predicted breed and calculating the favorite_count\n",
        "favorite_breed = master_df.groupby('p1')['favorite_count'].mean().sort_values(ascending=False)\n",
        "favorite_breed"
      ]
    },
    {
      "cell_type": "code",
      "execution_count": 412,
      "metadata": {},
      "outputs": [
        {
          "data": {
            "text/plain": [
              "rating_numerator\n",
              "0     24574.000000\n",
              "1      6961.750000\n",
              "2      2256.777778\n",
              "3      2395.526316\n",
              "4      2732.933333\n",
              "5      3921.441176\n",
              "6      2716.968750\n",
              "7      3015.568627\n",
              "8      2438.989796\n",
              "9      2438.335526\n",
              "10     4037.370968\n",
              "11     6972.806295\n",
              "12    11080.213693\n",
              "13    22452.171930\n",
              "14    28883.473684\n",
              "Name: favorite_count, dtype: float64"
            ]
          },
          "execution_count": 412,
          "metadata": {},
          "output_type": "execute_result"
        }
      ],
      "source": [
        "#Grouping the data by rating_numerator and calculating the average favorite_count\n",
        "fav_rating = master_df.groupby('rating_numerator')['favorite_count'].mean()\n",
        "fav_rating"
      ]
    },
    {
      "cell_type": "markdown",
      "metadata": {
        "id": "lowttg29dqpP"
      },
      "source": [
        "### Insights:\n",
        "1. Dog stage 'puppo' is the most high rated dog stage\n",
        "\n",
        "2. Dog breed 'laptop' is the most liked breed by people\n",
        "\n",
        "3. Some dogs are overrated by the post maker and some are underrated"
      ]
    },
    {
      "cell_type": "markdown",
      "metadata": {
        "collapsed": true,
        "id": "NiBgJRO6dqpP"
      },
      "source": [
        "### Visualization"
      ]
    },
    {
      "cell_type": "code",
      "execution_count": 413,
      "metadata": {
        "colab": {
          "base_uri": "https://localhost:8080/",
          "height": 472
        },
        "id": "X10sJR-gdqpQ",
        "outputId": "10cbc3a5-ef4a-48e9-eeec-d7a587e64fc1"
      },
      "outputs": [
        {
          "data": {
            "image/png": "[encoded data removed]",
            "text/plain": [
              "<Figure size 640x480 with 1 Axes>"
            ]
          },
          "metadata": {},
          "output_type": "display_data"
        }
      ],
      "source": [
        "#Creating a bar chart\n",
        "plt.bar(stage_ratings.index, stage_ratings.values)\n",
        "plt.xlabel('Dog Stage')\n",
        "plt.ylabel('Average Rating')\n",
        "plt.title('Relationship between Dog Stage and Average Rating')\n",
        "plt.show()"
      ]
    },
    {
      "cell_type": "code",
      "execution_count": 414,
      "metadata": {},
      "outputs": [
        {
          "data": {
            "image/png": "[encoded data removed]",
            "text/plain": [
              "<Figure size 640x480 with 1 Axes>"
            ]
          },
          "metadata": {},
          "output_type": "display_data"
        }
      ],
      "source": [
        "#Creating a bar chart\n",
        "plt.bar(favorite_breed.head(7).index, favorite_breed.head(7).values)\n",
        "plt.xlabel('Dog Breed')\n",
        "plt.ylabel('Average Favorite')\n",
        "plt.title('Relationship between Dog Breed and Average Favorite')\n",
        "plt.show()"
      ]
    },
    {
      "cell_type": "code",
      "execution_count": 415,
      "metadata": {},
      "outputs": [
        {
          "data": {
            "image/png": "[encoded data removed]",
            "text/plain": [
              "<Figure size 640x480 with 1 Axes>"
            ]
          },
          "metadata": {},
          "output_type": "display_data"
        }
      ],
      "source": [
        "#Creating a bar chart\n",
        "plt.bar(fav_rating.index, fav_rating.values)\n",
        "plt.xlabel('Rating')\n",
        "plt.ylabel('Favorite Count')\n",
        "plt.title('Underrated and Overrated dogs')\n",
        "plt.show()"
      ]
    }
  ],
  "metadata": {
    "colab": {
      "collapsed_sections": [
        "rznbotX0dqo8",
        "bjpwhgIUdqo9",
        "Wt2GyqFRdqpH",
        "4Cr0CyfGdqpI",
        "lIgkAdy7dqpJ",
        "wTTzk9t2dqpK",
        "7WMzPXN4dqpL",
        "p-TWD4JAdqpN",
        "-wRdWnyodqpO",
        "5GOHiWyJfuZD",
        "_GlZ5OA7hpze",
        "eukuvjQtqn6F"
      ],
      "provenance": []
    },
    "extensions": {
      "jupyter_dashboards": {
        "activeView": "report_default",
        "version": 1,
        "views": {
          "grid_default": {
            "cellMargin": 10,
            "defaultCellHeight": 20,
            "maxColumns": 12,
            "name": "grid",
            "type": "grid"
          },
          "report_default": {
            "name": "report",
            "type": "report"
          }
        }
      }
    },
    "kernelspec": {
      "display_name": "Python 3",
      "language": "python",
      "name": "python3"
    },
    "language_info": {
      "codemirror_mode": {
        "name": "ipython",
        "version": 3
      },
      "file_extension": ".py",
      "mimetype": "text/x-python",
      "name": "python",
      "nbconvert_exporter": "python",
      "pygments_lexer": "ipython3",
      "version": "3.11.undefined"
    }
  },
  "nbformat": 4,
  "nbformat_minor": 0
}
